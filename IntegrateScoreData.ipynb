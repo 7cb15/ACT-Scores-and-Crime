{
 "cells": [
  {
   "cell_type": "code",
   "execution_count": 1,
   "metadata": {},
   "outputs": [],
   "source": [
    "import pandas as pd\n",
    "import geopandas as gpd\n",
    "import os"
   ]
  },
  {
   "cell_type": "code",
   "execution_count": 2,
   "metadata": {},
   "outputs": [],
   "source": [
    "os.chdir(os.getcwd()+\"/Data\")"
   ]
  },
  {
   "cell_type": "code",
   "execution_count": 3,
   "metadata": {},
   "outputs": [],
   "source": [
    "#read in data, reorganize and concatenate\n",
    "scores1112 = pd.read_csv('1112_ACT.csv')\n",
    "scores1213 = pd.read_csv('1213_ACT.csv')\n",
    "scores1314 = pd.read_csv('1314_ACT.csv')\n",
    "scores1415 = pd.read_csv('1415_ACT.csv')\n",
    "scores1516 = pd.read_csv('1516_ACT.csv')\n",
    "scores1617 = pd.read_csv('1617_ACT.csv')\n",
    "\n",
    "scores1112['year'] = 2011\n",
    "scores1213['year'] = 2012\n",
    "scores1314['year'] = 2013\n",
    "scores1415['year'] = 2014\n",
    "scores1516['year'] = 2015\n",
    "scores1617['year'] = 2016\n",
    "\n",
    "col_list = ['RCDTS','District Name/ School Name',' Enrollment ','ACT Score','year']\n",
    "\n",
    "scores1112 = scores1112[col_list]\n",
    "scores1213 = scores1213[col_list]\n",
    "scores1314 = scores1314[col_list]\n",
    "scores1415 = scores1415[col_list]\n",
    "scores1516 = scores1516[col_list]\n",
    "scores1617 = scores1617[col_list]\n",
    "\n",
    "df_list = [scores1112,scores1213,scores1314,scores1415,scores1516,scores1617]\n",
    "\n",
    "all_scores = pd.concat(df_list)\n",
    "all_scores = all_scores[all_scores['ACT Score'].isnull()==False]\n",
    "\n",
    "all_scores.reset_index(inplace=True)"
   ]
  },
  {
   "cell_type": "code",
   "execution_count": 4,
   "metadata": {},
   "outputs": [],
   "source": [
    "#import geojson\n",
    "schools_geo = gpd.read_file('Chicago Public Schools - School Locations SY1718.geojson')"
   ]
  },
  {
   "cell_type": "code",
   "execution_count": 6,
   "metadata": {},
   "outputs": [
    {
     "data": {
      "text/html": [
       "<div>\n",
       "<style scoped>\n",
       "    .dataframe tbody tr th:only-of-type {\n",
       "        vertical-align: middle;\n",
       "    }\n",
       "\n",
       "    .dataframe tbody tr th {\n",
       "        vertical-align: top;\n",
       "    }\n",
       "\n",
       "    .dataframe thead th {\n",
       "        text-align: right;\n",
       "    }\n",
       "</style>\n",
       "<table border=\"1\" class=\"dataframe\">\n",
       "  <thead>\n",
       "    <tr style=\"text-align: right;\">\n",
       "      <th></th>\n",
       "      <th>network</th>\n",
       "      <th>grade_cat</th>\n",
       "      <th>zip</th>\n",
       "      <th>governance</th>\n",
       "      <th>school_id</th>\n",
       "      <th>ald_15</th>\n",
       "      <th>long</th>\n",
       "      <th>grades</th>\n",
       "      <th>commarea</th>\n",
       "      <th>short_name</th>\n",
       "      <th>ward_15</th>\n",
       "      <th>address</th>\n",
       "      <th>geo_network</th>\n",
       "      <th>lat</th>\n",
       "      <th>phone</th>\n",
       "      <th>geometry</th>\n",
       "    </tr>\n",
       "  </thead>\n",
       "  <tbody>\n",
       "    <tr>\n",
       "      <th>0</th>\n",
       "      <td>Charter</td>\n",
       "      <td>ES</td>\n",
       "      <td>60632</td>\n",
       "      <td>Charter</td>\n",
       "      <td>400009</td>\n",
       "      <td>Edward M. Burke</td>\n",
       "      <td>-87.7400974358</td>\n",
       "      <td>K, 1, 2, 3, 4, 5, 6, 7, 8</td>\n",
       "      <td>GARFIELD RIDGE</td>\n",
       "      <td>GLOBAL CITIZENSHIP</td>\n",
       "      <td>14</td>\n",
       "      <td>4647 W 47TH ST</td>\n",
       "      <td>8</td>\n",
       "      <td>41.8075785077</td>\n",
       "      <td>1(773)582-1100</td>\n",
       "      <td>POINT (-87.74009743581296 41.80757850688568)</td>\n",
       "    </tr>\n",
       "    <tr>\n",
       "      <th>1</th>\n",
       "      <td>Charter</td>\n",
       "      <td>HS</td>\n",
       "      <td>60609</td>\n",
       "      <td>Charter</td>\n",
       "      <td>400010</td>\n",
       "      <td>Patricia R. Dowell</td>\n",
       "      <td>-87.6258490365</td>\n",
       "      <td>9, 10, 11, 12</td>\n",
       "      <td>WASHINGTON PARK</td>\n",
       "      <td>ACE TECH HS</td>\n",
       "      <td>3</td>\n",
       "      <td>5410 S STATE ST</td>\n",
       "      <td>9</td>\n",
       "      <td>41.7961215104</td>\n",
       "      <td>1(773)548-8705</td>\n",
       "      <td>POINT (-87.62584903655835 41.79612150956602)</td>\n",
       "    </tr>\n",
       "    <tr>\n",
       "      <th>2</th>\n",
       "      <td>Charter</td>\n",
       "      <td>ES</td>\n",
       "      <td>60612</td>\n",
       "      <td>Charter</td>\n",
       "      <td>400011</td>\n",
       "      <td>Jason C. Ervin</td>\n",
       "      <td>-87.7052345259</td>\n",
       "      <td>K, 1, 2, 3, 4, 5, 6, 7, 8</td>\n",
       "      <td>EAST GARFIELD PARK</td>\n",
       "      <td>LOCKE A</td>\n",
       "      <td>28</td>\n",
       "      <td>3141 W JACKSON BLVD</td>\n",
       "      <td>5</td>\n",
       "      <td>41.877248353</td>\n",
       "      <td>1(773)265-7232</td>\n",
       "      <td>POINT (-87.70523452593643 41.87724835219521)</td>\n",
       "    </tr>\n",
       "    <tr>\n",
       "      <th>3</th>\n",
       "      <td>Charter</td>\n",
       "      <td>HS</td>\n",
       "      <td>60618</td>\n",
       "      <td>Charter</td>\n",
       "      <td>400013</td>\n",
       "      <td>Ariel E. Reboyras</td>\n",
       "      <td>-87.7270956585</td>\n",
       "      <td>9, 10, 11, 12</td>\n",
       "      <td>AVONDALE</td>\n",
       "      <td>ASPIRA - EARLY COLLEGE HS</td>\n",
       "      <td>30</td>\n",
       "      <td>3986 W BARRY AVE</td>\n",
       "      <td>4</td>\n",
       "      <td>41.9372982853</td>\n",
       "      <td>1(773)252-0970 x137</td>\n",
       "      <td>POINT (-87.72709565849537 41.93729828444937)</td>\n",
       "    </tr>\n",
       "    <tr>\n",
       "      <th>4</th>\n",
       "      <td>Charter</td>\n",
       "      <td>ES</td>\n",
       "      <td>60625</td>\n",
       "      <td>Charter</td>\n",
       "      <td>400017</td>\n",
       "      <td>Rey Colon</td>\n",
       "      <td>-87.7218246652</td>\n",
       "      <td>6, 7, 8</td>\n",
       "      <td>ALBANY PARK</td>\n",
       "      <td>ASPIRA - HAUGAN</td>\n",
       "      <td>35</td>\n",
       "      <td>3729 W LELAND AVE</td>\n",
       "      <td>1</td>\n",
       "      <td>41.966405668</td>\n",
       "      <td>1(773)252-0970</td>\n",
       "      <td>POINT (-87.72182466520648 41.96640566718369)</td>\n",
       "    </tr>\n",
       "  </tbody>\n",
       "</table>\n",
       "</div>"
      ],
      "text/plain": [
       "   network grade_cat    zip governance school_id              ald_15  \\\n",
       "0  Charter        ES  60632    Charter    400009     Edward M. Burke   \n",
       "1  Charter        HS  60609    Charter    400010  Patricia R. Dowell   \n",
       "2  Charter        ES  60612    Charter    400011      Jason C. Ervin   \n",
       "3  Charter        HS  60618    Charter    400013   Ariel E. Reboyras   \n",
       "4  Charter        ES  60625    Charter    400017           Rey Colon   \n",
       "\n",
       "             long                     grades            commarea  \\\n",
       "0  -87.7400974358  K, 1, 2, 3, 4, 5, 6, 7, 8      GARFIELD RIDGE   \n",
       "1  -87.6258490365              9, 10, 11, 12     WASHINGTON PARK   \n",
       "2  -87.7052345259  K, 1, 2, 3, 4, 5, 6, 7, 8  EAST GARFIELD PARK   \n",
       "3  -87.7270956585              9, 10, 11, 12            AVONDALE   \n",
       "4  -87.7218246652                    6, 7, 8         ALBANY PARK   \n",
       "\n",
       "                  short_name ward_15              address geo_network  \\\n",
       "0         GLOBAL CITIZENSHIP      14       4647 W 47TH ST           8   \n",
       "1                ACE TECH HS       3      5410 S STATE ST           9   \n",
       "2                    LOCKE A      28  3141 W JACKSON BLVD           5   \n",
       "3  ASPIRA - EARLY COLLEGE HS      30     3986 W BARRY AVE           4   \n",
       "4            ASPIRA - HAUGAN      35    3729 W LELAND AVE           1   \n",
       "\n",
       "             lat                phone  \\\n",
       "0  41.8075785077       1(773)582-1100   \n",
       "1  41.7961215104       1(773)548-8705   \n",
       "2   41.877248353       1(773)265-7232   \n",
       "3  41.9372982853  1(773)252-0970 x137   \n",
       "4   41.966405668       1(773)252-0970   \n",
       "\n",
       "                                       geometry  \n",
       "0  POINT (-87.74009743581296 41.80757850688568)  \n",
       "1  POINT (-87.62584903655835 41.79612150956602)  \n",
       "2  POINT (-87.70523452593643 41.87724835219521)  \n",
       "3  POINT (-87.72709565849537 41.93729828444937)  \n",
       "4  POINT (-87.72182466520648 41.96640566718369)  "
      ]
     },
     "execution_count": 6,
     "metadata": {},
     "output_type": "execute_result"
    }
   ],
   "source": [
    "schools_geo.head()"
   ]
  },
  {
   "cell_type": "code",
   "execution_count": 5,
   "metadata": {},
   "outputs": [],
   "source": [
    "school_progress11 = pd.read_csv(\n",
    "    'Chicago_Public_Schools_-_Progress_Report_Cards__2011-2012_.csv')"
   ]
  },
  {
   "cell_type": "code",
   "execution_count": 32,
   "metadata": {
    "scrolled": true
   },
   "outputs": [],
   "source": [
    "#parse phone number for joining\n",
    "def fix_string(row):\n",
    "    new_row = row.replace(\"(\",\"\").replace(\")\",\"\").replace(\"-\",\"\").replace(\" \",\"\")\n",
    "    return new_row\n",
    "                \n",
    "school_progress11['parsed_num'] = school_progress11['Phone Number'] \\\n",
    "                                                .apply(lambda row: fix_string(row))"
   ]
  },
  {
   "cell_type": "code",
   "execution_count": 33,
   "metadata": {},
   "outputs": [],
   "source": [
    "school_progress11 = school_progress11[['School ID','parsed_num','Name of School','Latitude','Longitude']]"
   ]
  },
  {
   "cell_type": "code",
   "execution_count": 34,
   "metadata": {},
   "outputs": [],
   "source": [
    "rcdts_file = pd.read_csv('rcdts.csv')"
   ]
  },
  {
   "cell_type": "code",
   "execution_count": 35,
   "metadata": {},
   "outputs": [],
   "source": [
    "rcdts_file['RCDTS'] = rcdts_file['Region'].astype(str) \\\n",
    "                        + rcdts_file['Type'].astype(str) \\\n",
    "                            + rcdts_file['School'].astype(str)"
   ]
  },
  {
   "cell_type": "code",
   "execution_count": 36,
   "metadata": {},
   "outputs": [],
   "source": [
    "#parse phone number for joining - rcdts file \n",
    "def fix_other_string(row):\n",
    "    new_row = str(row)\n",
    "    new_row = new_row.replace(\"-\",\"\").replace(\" \",\"\")\n",
    "    return new_row\n",
    "                \n",
    "rcdts_file['parsed_Num'] = rcdts_file['Telephone'] \\\n",
    "                                                .apply(lambda row: fix_other_string(row))"
   ]
  },
  {
   "cell_type": "code",
   "execution_count": 37,
   "metadata": {},
   "outputs": [],
   "source": [
    "#join rcdts \n",
    "rcdts_joined = pd.merge(left=rcdts_file,right=school_progress11,\n",
    "                             left_on='parsed_Num',right_on='parsed_num')"
   ]
  },
  {
   "cell_type": "code",
   "execution_count": 38,
   "metadata": {},
   "outputs": [],
   "source": [
    "rcdts_joined = rcdts_joined[['School ID','RCDTS','Name of School','Latitude','Longitude']]"
   ]
  },
  {
   "cell_type": "code",
   "execution_count": 39,
   "metadata": {},
   "outputs": [],
   "source": [
    "#join rcdts to score data\n",
    "score_joined = pd.merge(left=all_scores,right=rcdts_joined,how='left',left_on='RCDTS',right_on='RCDTS')"
   ]
  },
  {
   "cell_type": "code",
   "execution_count": 40,
   "metadata": {
    "scrolled": false
   },
   "outputs": [],
   "source": [
    "score_joined = score_joined[['School ID','RCDTS','ACT Score','District Name/ School Name',' Enrollment ','year']]"
   ]
  },
  {
   "cell_type": "code",
   "execution_count": 41,
   "metadata": {},
   "outputs": [],
   "source": [
    "score_joined.to_csv('score_joined_dirty.csv')"
   ]
  },
  {
   "cell_type": "code",
   "execution_count": 42,
   "metadata": {
    "scrolled": true
   },
   "outputs": [],
   "source": [
    "score_joined = score_joined[score_joined['School ID'].isnull()==False]"
   ]
  },
  {
   "cell_type": "code",
   "execution_count": 43,
   "metadata": {},
   "outputs": [],
   "source": [
    "schools_geo['school_id'] = schools_geo['school_id'].astype(float)"
   ]
  },
  {
   "cell_type": "code",
   "execution_count": 44,
   "metadata": {
    "scrolled": true
   },
   "outputs": [],
   "source": [
    "score_joined = pd.merge(left=score_joined,right=schools_geo,how='left',\n",
    "                                    left_on='School ID',right_on='school_id')\n",
    "\n",
    "score_joined = score_joined[['School ID','RCDTS','ACT Score','District Name/ School Name',\n",
    "              ' Enrollment ','year','commarea','geometry']]"
   ]
  },
  {
   "cell_type": "code",
   "execution_count": 45,
   "metadata": {},
   "outputs": [],
   "source": [
    "score_joined.to_csv('score_data_cleaned.csv')"
   ]
  },
  {
   "cell_type": "code",
   "execution_count": null,
   "metadata": {},
   "outputs": [],
   "source": []
  }
 ],
 "metadata": {
  "kernelspec": {
   "display_name": "deeplearn",
   "language": "python",
   "name": "deeplearn"
  },
  "language_info": {
   "codemirror_mode": {
    "name": "ipython",
    "version": 3
   },
   "file_extension": ".py",
   "mimetype": "text/x-python",
   "name": "python",
   "nbconvert_exporter": "python",
   "pygments_lexer": "ipython3",
   "version": "3.5.6"
  }
 },
 "nbformat": 4,
 "nbformat_minor": 2
}
