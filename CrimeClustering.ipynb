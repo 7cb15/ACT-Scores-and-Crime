{
 "cells": [
  {
   "cell_type": "markdown",
   "metadata": {},
   "source": [
    "## Crime and Demographic Hotspot Clustering"
   ]
  },
  {
   "cell_type": "code",
   "execution_count": 1,
   "metadata": {},
   "outputs": [
    {
     "name": "stdout",
     "output_type": "stream",
     "text": [
      "Populating the interactive namespace from numpy and matplotlib\n"
     ]
    }
   ],
   "source": [
    "import pandas as pd\n",
    "import geopandas as gpd\n",
    "import matplotlib.pyplot as plt\n",
    "import numpy as np\n",
    "import os\n",
    "\n",
    "from sklearn.cluster import KMeans\n",
    "from sklearn.mixture import GaussianMixture\n",
    "from sklearn.cluster import AgglomerativeClustering\n",
    "from sklearn.preprocessing import StandardScaler\n",
    "from sklearn.metrics import silhouette_score\n",
    "from sklearn import metrics\n",
    "from scipy.spatial.distance import cdist\n",
    "\n",
    "%pylab inline"
   ]
  },
  {
   "cell_type": "code",
   "execution_count": 2,
   "metadata": {},
   "outputs": [],
   "source": [
    "#set working directory\n",
    "os.chdir(os.getcwd()+'/Data')"
   ]
  },
  {
   "cell_type": "code",
   "execution_count": 3,
   "metadata": {},
   "outputs": [],
   "source": [
    "#import data\n",
    "demo = pd.read_csv('demographics.csv')\n",
    "crime = pd.read_csv('crimes_2001_pres_geo.csv')"
   ]
  },
  {
   "cell_type": "code",
   "execution_count": 4,
   "metadata": {},
   "outputs": [
    {
     "data": {
      "text/plain": [
       "(6146248, 26)"
      ]
     },
     "execution_count": 4,
     "metadata": {},
     "output_type": "execute_result"
    }
   ],
   "source": [
    "crime.shape"
   ]
  },
  {
   "cell_type": "code",
   "execution_count": 5,
   "metadata": {},
   "outputs": [
    {
     "data": {
      "text/html": [
       "<div>\n",
       "<style scoped>\n",
       "    .dataframe tbody tr th:only-of-type {\n",
       "        vertical-align: middle;\n",
       "    }\n",
       "\n",
       "    .dataframe tbody tr th {\n",
       "        vertical-align: top;\n",
       "    }\n",
       "\n",
       "    .dataframe thead th {\n",
       "        text-align: right;\n",
       "    }\n",
       "</style>\n",
       "<table border=\"1\" class=\"dataframe\">\n",
       "  <thead>\n",
       "    <tr style=\"text-align: right;\">\n",
       "      <th></th>\n",
       "      <th>index_right</th>\n",
       "      <th>census_tract</th>\n",
       "      <th>ID</th>\n",
       "      <th>Case Number</th>\n",
       "      <th>Date</th>\n",
       "      <th>Block</th>\n",
       "      <th>IUCR</th>\n",
       "      <th>Primary Type</th>\n",
       "      <th>Description</th>\n",
       "      <th>Location Description</th>\n",
       "      <th>...</th>\n",
       "      <th>FBI Code</th>\n",
       "      <th>X Coordinate</th>\n",
       "      <th>Y Coordinate</th>\n",
       "      <th>Year</th>\n",
       "      <th>Updated On</th>\n",
       "      <th>Latitude</th>\n",
       "      <th>Longitude</th>\n",
       "      <th>Location</th>\n",
       "      <th>geo_tag_loc</th>\n",
       "      <th>geometry</th>\n",
       "    </tr>\n",
       "  </thead>\n",
       "  <tbody>\n",
       "    <tr>\n",
       "      <th>0</th>\n",
       "      <td>6739173</td>\n",
       "      <td>8424.0</td>\n",
       "      <td>2630263</td>\n",
       "      <td>HJ231054</td>\n",
       "      <td>03/11/2003 08:00:00 AM</td>\n",
       "      <td>089XX S STATE ST</td>\n",
       "      <td>0810</td>\n",
       "      <td>THEFT</td>\n",
       "      <td>OVER $500</td>\n",
       "      <td>STREET</td>\n",
       "      <td>...</td>\n",
       "      <td>06</td>\n",
       "      <td>1177854.0</td>\n",
       "      <td>1845897.0</td>\n",
       "      <td>2003</td>\n",
       "      <td>02/28/2018 03:56:25 PM</td>\n",
       "      <td>41.732459</td>\n",
       "      <td>-87.624029</td>\n",
       "      <td>(41.732458945, -87.624029041)</td>\n",
       "      <td>POINT (-87.624029041 41.732458945)</td>\n",
       "      <td>POINT (-87.624029041 41.732458945)</td>\n",
       "    </tr>\n",
       "    <tr>\n",
       "      <th>1</th>\n",
       "      <td>6431753</td>\n",
       "      <td>8424.0</td>\n",
       "      <td>2142068</td>\n",
       "      <td>HH386962</td>\n",
       "      <td>05/21/2002 11:00:00 AM</td>\n",
       "      <td>089XX S STATE ST</td>\n",
       "      <td>0910</td>\n",
       "      <td>MOTOR VEHICLE THEFT</td>\n",
       "      <td>AUTOMOBILE</td>\n",
       "      <td>PARKING LOT/GARAGE(NON.RESID.)</td>\n",
       "      <td>...</td>\n",
       "      <td>07</td>\n",
       "      <td>1177854.0</td>\n",
       "      <td>1845897.0</td>\n",
       "      <td>2002</td>\n",
       "      <td>02/28/2018 03:56:25 PM</td>\n",
       "      <td>41.732459</td>\n",
       "      <td>-87.624029</td>\n",
       "      <td>(41.732458945, -87.624029041)</td>\n",
       "      <td>POINT (-87.624029041 41.732458945)</td>\n",
       "      <td>POINT (-87.624029041 41.732458945)</td>\n",
       "    </tr>\n",
       "    <tr>\n",
       "      <th>2</th>\n",
       "      <td>6584752</td>\n",
       "      <td>8424.0</td>\n",
       "      <td>2392787</td>\n",
       "      <td>HH482587</td>\n",
       "      <td>07/02/2002 02:20:48 PM</td>\n",
       "      <td>089XX S STATE ST</td>\n",
       "      <td>0820</td>\n",
       "      <td>THEFT</td>\n",
       "      <td>$500 AND UNDER</td>\n",
       "      <td>OTHER</td>\n",
       "      <td>...</td>\n",
       "      <td>06</td>\n",
       "      <td>1177854.0</td>\n",
       "      <td>1845897.0</td>\n",
       "      <td>2002</td>\n",
       "      <td>02/28/2018 03:56:25 PM</td>\n",
       "      <td>41.732459</td>\n",
       "      <td>-87.624029</td>\n",
       "      <td>(41.732458945, -87.624029041)</td>\n",
       "      <td>POINT (-87.624029041 41.732458945)</td>\n",
       "      <td>POINT (-87.624029041 41.732458945)</td>\n",
       "    </tr>\n",
       "    <tr>\n",
       "      <th>3</th>\n",
       "      <td>1255946</td>\n",
       "      <td>8424.0</td>\n",
       "      <td>5087829</td>\n",
       "      <td>HM690486</td>\n",
       "      <td>10/30/2006 10:01:57 AM</td>\n",
       "      <td>089XX S STATE ST</td>\n",
       "      <td>0610</td>\n",
       "      <td>BURGLARY</td>\n",
       "      <td>FORCIBLE ENTRY</td>\n",
       "      <td>COMMERCIAL / BUSINESS OFFICE</td>\n",
       "      <td>...</td>\n",
       "      <td>05</td>\n",
       "      <td>1177862.0</td>\n",
       "      <td>1845535.0</td>\n",
       "      <td>2006</td>\n",
       "      <td>02/28/2018 03:56:25 PM</td>\n",
       "      <td>41.731465</td>\n",
       "      <td>-87.624011</td>\n",
       "      <td>(41.73146539, -87.624010662)</td>\n",
       "      <td>POINT (-87.624010662 41.73146539)</td>\n",
       "      <td>POINT (-87.624010662 41.73146539)</td>\n",
       "    </tr>\n",
       "    <tr>\n",
       "      <th>4</th>\n",
       "      <td>1839891</td>\n",
       "      <td>8424.0</td>\n",
       "      <td>6387215</td>\n",
       "      <td>HP472412</td>\n",
       "      <td>07/24/2008 07:00:00 AM</td>\n",
       "      <td>089XX S STATE ST</td>\n",
       "      <td>1320</td>\n",
       "      <td>CRIMINAL DAMAGE</td>\n",
       "      <td>TO VEHICLE</td>\n",
       "      <td>PARKING LOT/GARAGE(NON.RESID.)</td>\n",
       "      <td>...</td>\n",
       "      <td>14</td>\n",
       "      <td>1177854.0</td>\n",
       "      <td>1845885.0</td>\n",
       "      <td>2008</td>\n",
       "      <td>02/28/2018 03:56:25 PM</td>\n",
       "      <td>41.732426</td>\n",
       "      <td>-87.624029</td>\n",
       "      <td>(41.732426015, -87.624029403)</td>\n",
       "      <td>POINT (-87.62402940299999 41.732426015)</td>\n",
       "      <td>POINT (-87.62402940299999 41.732426015)</td>\n",
       "    </tr>\n",
       "  </tbody>\n",
       "</table>\n",
       "<p>5 rows × 26 columns</p>\n",
       "</div>"
      ],
      "text/plain": [
       "   index_right  census_tract       ID Case Number                    Date  \\\n",
       "0      6739173        8424.0  2630263    HJ231054  03/11/2003 08:00:00 AM   \n",
       "1      6431753        8424.0  2142068    HH386962  05/21/2002 11:00:00 AM   \n",
       "2      6584752        8424.0  2392787    HH482587  07/02/2002 02:20:48 PM   \n",
       "3      1255946        8424.0  5087829    HM690486  10/30/2006 10:01:57 AM   \n",
       "4      1839891        8424.0  6387215    HP472412  07/24/2008 07:00:00 AM   \n",
       "\n",
       "              Block  IUCR         Primary Type     Description  \\\n",
       "0  089XX S STATE ST  0810                THEFT       OVER $500   \n",
       "1  089XX S STATE ST  0910  MOTOR VEHICLE THEFT      AUTOMOBILE   \n",
       "2  089XX S STATE ST  0820                THEFT  $500 AND UNDER   \n",
       "3  089XX S STATE ST  0610             BURGLARY  FORCIBLE ENTRY   \n",
       "4  089XX S STATE ST  1320      CRIMINAL DAMAGE      TO VEHICLE   \n",
       "\n",
       "             Location Description                   ...                     \\\n",
       "0                          STREET                   ...                      \n",
       "1  PARKING LOT/GARAGE(NON.RESID.)                   ...                      \n",
       "2                           OTHER                   ...                      \n",
       "3    COMMERCIAL / BUSINESS OFFICE                   ...                      \n",
       "4  PARKING LOT/GARAGE(NON.RESID.)                   ...                      \n",
       "\n",
       "   FBI Code  X Coordinate  Y Coordinate  Year              Updated On  \\\n",
       "0        06     1177854.0     1845897.0  2003  02/28/2018 03:56:25 PM   \n",
       "1        07     1177854.0     1845897.0  2002  02/28/2018 03:56:25 PM   \n",
       "2        06     1177854.0     1845897.0  2002  02/28/2018 03:56:25 PM   \n",
       "3        05     1177862.0     1845535.0  2006  02/28/2018 03:56:25 PM   \n",
       "4        14     1177854.0     1845885.0  2008  02/28/2018 03:56:25 PM   \n",
       "\n",
       "    Latitude  Longitude                       Location  \\\n",
       "0  41.732459 -87.624029  (41.732458945, -87.624029041)   \n",
       "1  41.732459 -87.624029  (41.732458945, -87.624029041)   \n",
       "2  41.732459 -87.624029  (41.732458945, -87.624029041)   \n",
       "3  41.731465 -87.624011   (41.73146539, -87.624010662)   \n",
       "4  41.732426 -87.624029  (41.732426015, -87.624029403)   \n",
       "\n",
       "                               geo_tag_loc  \\\n",
       "0       POINT (-87.624029041 41.732458945)   \n",
       "1       POINT (-87.624029041 41.732458945)   \n",
       "2       POINT (-87.624029041 41.732458945)   \n",
       "3        POINT (-87.624010662 41.73146539)   \n",
       "4  POINT (-87.62402940299999 41.732426015)   \n",
       "\n",
       "                                  geometry  \n",
       "0       POINT (-87.624029041 41.732458945)  \n",
       "1       POINT (-87.624029041 41.732458945)  \n",
       "2       POINT (-87.624029041 41.732458945)  \n",
       "3        POINT (-87.624010662 41.73146539)  \n",
       "4  POINT (-87.62402940299999 41.732426015)  \n",
       "\n",
       "[5 rows x 26 columns]"
      ]
     },
     "execution_count": 5,
     "metadata": {},
     "output_type": "execute_result"
    }
   ],
   "source": [
    "crime.head()"
   ]
  },
  {
   "cell_type": "code",
   "execution_count": 6,
   "metadata": {},
   "outputs": [
    {
     "name": "stdout",
     "output_type": "stream",
     "text": [
      "[2017 2016 2015 2014 2013 2012 2011 2010 2009]\n",
      "[2003 2002 2006 2008 2005 2009 2017 2012 2004 2011 2018 2016 2015 2010\n",
      " 2013 2014 2007 2001 2019]\n"
     ]
    }
   ],
   "source": [
    "#check the years and align the data sets\n",
    "print(demo.year.unique())\n",
    "print(crime.Year.unique())"
   ]
  },
  {
   "cell_type": "code",
   "execution_count": 7,
   "metadata": {},
   "outputs": [
    {
     "name": "stderr",
     "output_type": "stream",
     "text": [
      "/nfshome/cb4102/.conda/envs/deeplearn/lib/python3.5/site-packages/ipykernel_launcher.py:3: UserWarning: Boolean Series key will be reindexed to match DataFrame index.\n",
      "  This is separate from the ipykernel package so we can avoid doing imports until\n"
     ]
    }
   ],
   "source": [
    "#trim crime df to align years\n",
    "crime = crime[(crime.Year > 2010)&(crime.Year < 2019)]\n",
    "demo = demo[(demo.year > 2010)&(crime.Year < 2019)]"
   ]
  },
  {
   "cell_type": "code",
   "execution_count": 8,
   "metadata": {},
   "outputs": [
    {
     "name": "stderr",
     "output_type": "stream",
     "text": [
      "/nfshome/cb4102/.conda/envs/deeplearn/lib/python3.5/site-packages/pandas/core/generic.py:5890: SettingWithCopyWarning: \n",
      "A value is trying to be set on a copy of a slice from a DataFrame\n",
      "\n",
      "See the caveats in the documentation: http://pandas.pydata.org/pandas-docs/stable/indexing.html#indexing-view-versus-copy\n",
      "  self._update_inplace(new_data)\n"
     ]
    }
   ],
   "source": [
    "demo_2018 = demo[demo['year']==2017]\n",
    "demo_2018['year'].replace({2017:2018},inplace=True)"
   ]
  },
  {
   "cell_type": "code",
   "execution_count": 9,
   "metadata": {},
   "outputs": [],
   "source": [
    "demo = pd.concat([demo,demo_2018],ignore_index=True) #fill in 2018 with 2017 values"
   ]
  },
  {
   "cell_type": "code",
   "execution_count": 10,
   "metadata": {},
   "outputs": [],
   "source": [
    "#map file to consolidate categories\n",
    "crime_mapper = pd.read_csv('crime_mapper.csv')\n",
    "\n",
    "#merge to get new mapping in crime data set\n",
    "crime = pd.merge(left=crime,right=crime_mapper,how='left',\n",
    "                 left_on='Primary Type',right_on='OLD_TYPE')"
   ]
  },
  {
   "cell_type": "code",
   "execution_count": 11,
   "metadata": {},
   "outputs": [],
   "source": [
    "#aggregate to the year and crime type level\n",
    "crime_agg = pd.DataFrame(crime.groupby(['census_tract','Year','NEW_TYPE'])['IUCR'].count())"
   ]
  },
  {
   "cell_type": "code",
   "execution_count": 12,
   "metadata": {},
   "outputs": [],
   "source": [
    "#reset index\n",
    "crime_agg.reset_index(inplace=True)"
   ]
  },
  {
   "cell_type": "code",
   "execution_count": 13,
   "metadata": {
    "scrolled": true
   },
   "outputs": [],
   "source": [
    "#aggregate and pivot data\n",
    "crime_agg = crime_agg.groupby(['census_tract', 'Year', 'NEW_TYPE'])['IUCR'].sum() \\\n",
    "                    .unstack('NEW_TYPE')"
   ]
  },
  {
   "cell_type": "code",
   "execution_count": 14,
   "metadata": {},
   "outputs": [
    {
     "data": {
      "text/plain": [
       "(6408, 23)"
      ]
     },
     "execution_count": 14,
     "metadata": {},
     "output_type": "execute_result"
    }
   ],
   "source": [
    "crime_agg.shape"
   ]
  },
  {
   "cell_type": "code",
   "execution_count": 15,
   "metadata": {},
   "outputs": [],
   "source": [
    "#fill na\n",
    "crime_agg.fillna(0,inplace=True)"
   ]
  },
  {
   "cell_type": "code",
   "execution_count": 16,
   "metadata": {},
   "outputs": [],
   "source": [
    "#reset the index to join in demographic data\n",
    "crime_agg.reset_index(inplace=True)"
   ]
  },
  {
   "cell_type": "code",
   "execution_count": 17,
   "metadata": {},
   "outputs": [],
   "source": [
    "#read in census tract shape file\n",
    "census_shapes = gpd.read_file('geo_export_ce0fbd70-d876-49ca-9432-ae1454719ab0.shp')"
   ]
  },
  {
   "cell_type": "code",
   "execution_count": 18,
   "metadata": {},
   "outputs": [],
   "source": [
    "#convert column for joining\n",
    "census_shapes['name_float'] = census_shapes.name10.astype(float)"
   ]
  },
  {
   "cell_type": "code",
   "execution_count": 19,
   "metadata": {},
   "outputs": [],
   "source": [
    "#join to get geoid from tracts table\n",
    "crime_agg = pd.merge(left=crime_agg,right=census_shapes,\n",
    "                     how='left',left_on='census_tract',right_on='name_float')"
   ]
  },
  {
   "cell_type": "code",
   "execution_count": 20,
   "metadata": {},
   "outputs": [],
   "source": [
    "#set column type for join\n",
    "crime_agg['geoid10_int'] = crime_agg['geoid10'].astype(int)"
   ]
  },
  {
   "cell_type": "code",
   "execution_count": 21,
   "metadata": {},
   "outputs": [],
   "source": [
    "#join demographic table\n",
    "crime_agg = pd.merge(left=crime_agg,right=demo,\n",
    "                     left_on=['geoid10_int','Year'],right_on=['geoid','year'])"
   ]
  },
  {
   "cell_type": "code",
   "execution_count": 22,
   "metadata": {},
   "outputs": [],
   "source": [
    "#set max columns\n",
    "pd.set_option('display.max_columns', 500)"
   ]
  },
  {
   "cell_type": "code",
   "execution_count": 23,
   "metadata": {},
   "outputs": [],
   "source": [
    "#roll data up to the community area level\n",
    "len(crime_agg.commarea.unique())\n",
    "sum_list = ['ARSON', 'ASSAULT AND BATTERY', 'BURGLARY',\n",
    "       'CRIMINAL DAMAGE', 'DECEPTIVE PRACTICE', 'GAMBLING', 'HOMICIDE',\n",
    "       'INTERFERENCE WITH PUBLIC OFFICER', 'INTIMIDATION', 'KIDNAPPING',\n",
    "       'LIQUOR LAW VIOLATION', 'NARCOTICS', 'OFFENSE INVOLVING CHILDREN',\n",
    "       'OTHER OFFENSE', 'PROSTITUTION', 'PUBLIC PEACE VIOLATION', 'ROBBERY',\n",
    "       'SEXUAL ASSAULT', 'STALKING', 'THEFT', 'TRESPASSING', 'VEHICLE THEFT',\n",
    "       'WEAPONS VIOLATION','households', 'own', 'rent','16+_tot',\n",
    "       'med_income', 'total', 'white', 'black', 'amer_indian',\n",
    "       'asian', 'hawaiian', 'other','all_families', 'married_fam','single_mom']\n",
    "\n",
    "crime_agg_sums = pd.DataFrame(crime_agg.groupby(['year','commarea'])[sum_list].sum())\n",
    "\n",
    "crime_agg_sums.reset_index(inplace=True)"
   ]
  },
  {
   "cell_type": "code",
   "execution_count": 24,
   "metadata": {},
   "outputs": [
    {
     "data": {
      "text/html": [
       "<div>\n",
       "<style scoped>\n",
       "    .dataframe tbody tr th:only-of-type {\n",
       "        vertical-align: middle;\n",
       "    }\n",
       "\n",
       "    .dataframe tbody tr th {\n",
       "        vertical-align: top;\n",
       "    }\n",
       "\n",
       "    .dataframe thead th {\n",
       "        text-align: right;\n",
       "    }\n",
       "</style>\n",
       "<table border=\"1\" class=\"dataframe\">\n",
       "  <thead>\n",
       "    <tr style=\"text-align: right;\">\n",
       "      <th></th>\n",
       "      <th>year</th>\n",
       "      <th>commarea</th>\n",
       "      <th>ARSON</th>\n",
       "      <th>ASSAULT AND BATTERY</th>\n",
       "      <th>BURGLARY</th>\n",
       "      <th>CRIMINAL DAMAGE</th>\n",
       "      <th>DECEPTIVE PRACTICE</th>\n",
       "      <th>GAMBLING</th>\n",
       "      <th>HOMICIDE</th>\n",
       "      <th>INTERFERENCE WITH PUBLIC OFFICER</th>\n",
       "      <th>INTIMIDATION</th>\n",
       "      <th>KIDNAPPING</th>\n",
       "      <th>LIQUOR LAW VIOLATION</th>\n",
       "      <th>NARCOTICS</th>\n",
       "      <th>OFFENSE INVOLVING CHILDREN</th>\n",
       "      <th>OTHER OFFENSE</th>\n",
       "      <th>PROSTITUTION</th>\n",
       "      <th>PUBLIC PEACE VIOLATION</th>\n",
       "      <th>ROBBERY</th>\n",
       "      <th>SEXUAL ASSAULT</th>\n",
       "      <th>STALKING</th>\n",
       "      <th>THEFT</th>\n",
       "      <th>TRESPASSING</th>\n",
       "      <th>VEHICLE THEFT</th>\n",
       "      <th>WEAPONS VIOLATION</th>\n",
       "      <th>households</th>\n",
       "      <th>own</th>\n",
       "      <th>rent</th>\n",
       "      <th>16+_tot</th>\n",
       "      <th>total</th>\n",
       "      <th>white</th>\n",
       "      <th>black</th>\n",
       "      <th>amer_indian</th>\n",
       "      <th>asian</th>\n",
       "      <th>hawaiian</th>\n",
       "      <th>other</th>\n",
       "      <th>all_families</th>\n",
       "      <th>married_fam</th>\n",
       "      <th>single_mom</th>\n",
       "    </tr>\n",
       "  </thead>\n",
       "  <tbody>\n",
       "    <tr>\n",
       "      <th>0</th>\n",
       "      <td>2011</td>\n",
       "      <td>1</td>\n",
       "      <td>5.0</td>\n",
       "      <td>631.0</td>\n",
       "      <td>123.0</td>\n",
       "      <td>272.0</td>\n",
       "      <td>58.0</td>\n",
       "      <td>6.0</td>\n",
       "      <td>3.0</td>\n",
       "      <td>9.0</td>\n",
       "      <td>0.0</td>\n",
       "      <td>0.0</td>\n",
       "      <td>7.0</td>\n",
       "      <td>226.0</td>\n",
       "      <td>12.0</td>\n",
       "      <td>164.0</td>\n",
       "      <td>2.0</td>\n",
       "      <td>24.0</td>\n",
       "      <td>113.0</td>\n",
       "      <td>13.0</td>\n",
       "      <td>2.0</td>\n",
       "      <td>404.0</td>\n",
       "      <td>69.0</td>\n",
       "      <td>67.0</td>\n",
       "      <td>19.0</td>\n",
       "      <td>9442</td>\n",
       "      <td>2806</td>\n",
       "      <td>6636</td>\n",
       "      <td>18563</td>\n",
       "      <td>23793</td>\n",
       "      <td>9936</td>\n",
       "      <td>8282</td>\n",
       "      <td>7</td>\n",
       "      <td>1327</td>\n",
       "      <td>0</td>\n",
       "      <td>3450</td>\n",
       "      <td>4511</td>\n",
       "      <td>2743</td>\n",
       "      <td>1359</td>\n",
       "    </tr>\n",
       "    <tr>\n",
       "      <th>1</th>\n",
       "      <td>2011</td>\n",
       "      <td>10</td>\n",
       "      <td>2.0</td>\n",
       "      <td>273.0</td>\n",
       "      <td>138.0</td>\n",
       "      <td>259.0</td>\n",
       "      <td>84.0</td>\n",
       "      <td>0.0</td>\n",
       "      <td>0.0</td>\n",
       "      <td>1.0</td>\n",
       "      <td>0.0</td>\n",
       "      <td>3.0</td>\n",
       "      <td>3.0</td>\n",
       "      <td>32.0</td>\n",
       "      <td>8.0</td>\n",
       "      <td>132.0</td>\n",
       "      <td>0.0</td>\n",
       "      <td>12.0</td>\n",
       "      <td>14.0</td>\n",
       "      <td>11.0</td>\n",
       "      <td>0.0</td>\n",
       "      <td>384.0</td>\n",
       "      <td>36.0</td>\n",
       "      <td>44.0</td>\n",
       "      <td>1.0</td>\n",
       "      <td>14441</td>\n",
       "      <td>11238</td>\n",
       "      <td>3203</td>\n",
       "      <td>30122</td>\n",
       "      <td>37276</td>\n",
       "      <td>32431</td>\n",
       "      <td>295</td>\n",
       "      <td>75</td>\n",
       "      <td>1749</td>\n",
       "      <td>0</td>\n",
       "      <td>1812</td>\n",
       "      <td>9590</td>\n",
       "      <td>7360</td>\n",
       "      <td>1601</td>\n",
       "    </tr>\n",
       "    <tr>\n",
       "      <th>2</th>\n",
       "      <td>2011</td>\n",
       "      <td>11</td>\n",
       "      <td>1.0</td>\n",
       "      <td>249.0</td>\n",
       "      <td>132.0</td>\n",
       "      <td>205.0</td>\n",
       "      <td>92.0</td>\n",
       "      <td>0.0</td>\n",
       "      <td>2.0</td>\n",
       "      <td>6.0</td>\n",
       "      <td>1.0</td>\n",
       "      <td>0.0</td>\n",
       "      <td>1.0</td>\n",
       "      <td>53.0</td>\n",
       "      <td>19.0</td>\n",
       "      <td>136.0</td>\n",
       "      <td>0.0</td>\n",
       "      <td>6.0</td>\n",
       "      <td>16.0</td>\n",
       "      <td>6.0</td>\n",
       "      <td>4.0</td>\n",
       "      <td>286.0</td>\n",
       "      <td>30.0</td>\n",
       "      <td>65.0</td>\n",
       "      <td>3.0</td>\n",
       "      <td>9882</td>\n",
       "      <td>6739</td>\n",
       "      <td>3143</td>\n",
       "      <td>21357</td>\n",
       "      <td>26099</td>\n",
       "      <td>21514</td>\n",
       "      <td>247</td>\n",
       "      <td>74</td>\n",
       "      <td>2240</td>\n",
       "      <td>0</td>\n",
       "      <td>1551</td>\n",
       "      <td>6307</td>\n",
       "      <td>4709</td>\n",
       "      <td>1003</td>\n",
       "    </tr>\n",
       "    <tr>\n",
       "      <th>3</th>\n",
       "      <td>2011</td>\n",
       "      <td>12</td>\n",
       "      <td>0.0</td>\n",
       "      <td>64.0</td>\n",
       "      <td>59.0</td>\n",
       "      <td>66.0</td>\n",
       "      <td>21.0</td>\n",
       "      <td>0.0</td>\n",
       "      <td>0.0</td>\n",
       "      <td>0.0</td>\n",
       "      <td>0.0</td>\n",
       "      <td>0.0</td>\n",
       "      <td>0.0</td>\n",
       "      <td>17.0</td>\n",
       "      <td>2.0</td>\n",
       "      <td>27.0</td>\n",
       "      <td>0.0</td>\n",
       "      <td>1.0</td>\n",
       "      <td>3.0</td>\n",
       "      <td>3.0</td>\n",
       "      <td>0.0</td>\n",
       "      <td>73.0</td>\n",
       "      <td>8.0</td>\n",
       "      <td>11.0</td>\n",
       "      <td>1.0</td>\n",
       "      <td>3667</td>\n",
       "      <td>3080</td>\n",
       "      <td>587</td>\n",
       "      <td>7935</td>\n",
       "      <td>10325</td>\n",
       "      <td>7067</td>\n",
       "      <td>205</td>\n",
       "      <td>0</td>\n",
       "      <td>1801</td>\n",
       "      <td>0</td>\n",
       "      <td>896</td>\n",
       "      <td>2700</td>\n",
       "      <td>2245</td>\n",
       "      <td>321</td>\n",
       "    </tr>\n",
       "    <tr>\n",
       "      <th>4</th>\n",
       "      <td>2011</td>\n",
       "      <td>13</td>\n",
       "      <td>0.0</td>\n",
       "      <td>174.0</td>\n",
       "      <td>144.0</td>\n",
       "      <td>189.0</td>\n",
       "      <td>30.0</td>\n",
       "      <td>2.0</td>\n",
       "      <td>1.0</td>\n",
       "      <td>0.0</td>\n",
       "      <td>1.0</td>\n",
       "      <td>0.0</td>\n",
       "      <td>2.0</td>\n",
       "      <td>46.0</td>\n",
       "      <td>7.0</td>\n",
       "      <td>79.0</td>\n",
       "      <td>2.0</td>\n",
       "      <td>2.0</td>\n",
       "      <td>32.0</td>\n",
       "      <td>8.0</td>\n",
       "      <td>2.0</td>\n",
       "      <td>293.0</td>\n",
       "      <td>25.0</td>\n",
       "      <td>64.0</td>\n",
       "      <td>5.0</td>\n",
       "      <td>6448</td>\n",
       "      <td>3350</td>\n",
       "      <td>3098</td>\n",
       "      <td>14382</td>\n",
       "      <td>17954</td>\n",
       "      <td>9949</td>\n",
       "      <td>576</td>\n",
       "      <td>7</td>\n",
       "      <td>4745</td>\n",
       "      <td>0</td>\n",
       "      <td>1744</td>\n",
       "      <td>4071</td>\n",
       "      <td>3107</td>\n",
       "      <td>580</td>\n",
       "    </tr>\n",
       "  </tbody>\n",
       "</table>\n",
       "</div>"
      ],
      "text/plain": [
       "   year commarea  ARSON  ASSAULT AND BATTERY  BURGLARY  CRIMINAL DAMAGE  \\\n",
       "0  2011        1    5.0                631.0     123.0            272.0   \n",
       "1  2011       10    2.0                273.0     138.0            259.0   \n",
       "2  2011       11    1.0                249.0     132.0            205.0   \n",
       "3  2011       12    0.0                 64.0      59.0             66.0   \n",
       "4  2011       13    0.0                174.0     144.0            189.0   \n",
       "\n",
       "   DECEPTIVE PRACTICE  GAMBLING  HOMICIDE  INTERFERENCE WITH PUBLIC OFFICER  \\\n",
       "0                58.0       6.0       3.0                               9.0   \n",
       "1                84.0       0.0       0.0                               1.0   \n",
       "2                92.0       0.0       2.0                               6.0   \n",
       "3                21.0       0.0       0.0                               0.0   \n",
       "4                30.0       2.0       1.0                               0.0   \n",
       "\n",
       "   INTIMIDATION  KIDNAPPING  LIQUOR LAW VIOLATION  NARCOTICS  \\\n",
       "0           0.0         0.0                   7.0      226.0   \n",
       "1           0.0         3.0                   3.0       32.0   \n",
       "2           1.0         0.0                   1.0       53.0   \n",
       "3           0.0         0.0                   0.0       17.0   \n",
       "4           1.0         0.0                   2.0       46.0   \n",
       "\n",
       "   OFFENSE INVOLVING CHILDREN  OTHER OFFENSE  PROSTITUTION  \\\n",
       "0                        12.0          164.0           2.0   \n",
       "1                         8.0          132.0           0.0   \n",
       "2                        19.0          136.0           0.0   \n",
       "3                         2.0           27.0           0.0   \n",
       "4                         7.0           79.0           2.0   \n",
       "\n",
       "   PUBLIC PEACE VIOLATION  ROBBERY  SEXUAL ASSAULT  STALKING  THEFT  \\\n",
       "0                    24.0    113.0            13.0       2.0  404.0   \n",
       "1                    12.0     14.0            11.0       0.0  384.0   \n",
       "2                     6.0     16.0             6.0       4.0  286.0   \n",
       "3                     1.0      3.0             3.0       0.0   73.0   \n",
       "4                     2.0     32.0             8.0       2.0  293.0   \n",
       "\n",
       "   TRESPASSING  VEHICLE THEFT  WEAPONS VIOLATION  households    own  rent  \\\n",
       "0         69.0           67.0               19.0        9442   2806  6636   \n",
       "1         36.0           44.0                1.0       14441  11238  3203   \n",
       "2         30.0           65.0                3.0        9882   6739  3143   \n",
       "3          8.0           11.0                1.0        3667   3080   587   \n",
       "4         25.0           64.0                5.0        6448   3350  3098   \n",
       "\n",
       "   16+_tot  total  white  black  amer_indian  asian  hawaiian  other  \\\n",
       "0    18563  23793   9936   8282            7   1327         0   3450   \n",
       "1    30122  37276  32431    295           75   1749         0   1812   \n",
       "2    21357  26099  21514    247           74   2240         0   1551   \n",
       "3     7935  10325   7067    205            0   1801         0    896   \n",
       "4    14382  17954   9949    576            7   4745         0   1744   \n",
       "\n",
       "   all_families  married_fam  single_mom  \n",
       "0          4511         2743        1359  \n",
       "1          9590         7360        1601  \n",
       "2          6307         4709        1003  \n",
       "3          2700         2245         321  \n",
       "4          4071         3107         580  "
      ]
     },
     "execution_count": 24,
     "metadata": {},
     "output_type": "execute_result"
    }
   ],
   "source": [
    "crime_agg_sums.head()"
   ]
  },
  {
   "cell_type": "code",
   "execution_count": 25,
   "metadata": {},
   "outputs": [],
   "source": [
    "cols = ['ARSON', 'ASSAULT AND BATTERY', 'BURGLARY',\n",
    "       'CRIMINAL DAMAGE', 'DECEPTIVE PRACTICE', 'GAMBLING', 'HOMICIDE',\n",
    "       'INTERFERENCE WITH PUBLIC OFFICER', 'INTIMIDATION', 'KIDNAPPING',\n",
    "       'LIQUOR LAW VIOLATION', 'NARCOTICS', 'OFFENSE INVOLVING CHILDREN',\n",
    "       'OTHER OFFENSE', 'PROSTITUTION', 'PUBLIC PEACE VIOLATION', 'ROBBERY',\n",
    "       'SEXUAL ASSAULT', 'STALKING', 'THEFT', 'TRESPASSING', 'VEHICLE THEFT',\n",
    "       'WEAPONS VIOLATION']\n",
    "\n",
    "#adding one to avoid div by zero error, only affects one row\n",
    "for col in cols:\n",
    "    crime_agg_sums[col]= crime_agg_sums.apply(lambda row: row[col] / (row['households']+1), \n",
    "                                  axis=1)"
   ]
  },
  {
   "cell_type": "code",
   "execution_count": 26,
   "metadata": {},
   "outputs": [],
   "source": [
    "cols = ['commarea','ARSON', 'ASSAULT AND BATTERY', 'BURGLARY',\n",
    "       'CRIMINAL DAMAGE', 'DECEPTIVE PRACTICE', 'GAMBLING', 'HOMICIDE',\n",
    "       'INTERFERENCE WITH PUBLIC OFFICER', 'INTIMIDATION', 'KIDNAPPING',\n",
    "       'LIQUOR LAW VIOLATION', 'NARCOTICS', 'OFFENSE INVOLVING CHILDREN',\n",
    "       'OTHER OFFENSE', 'PROSTITUTION', 'PUBLIC PEACE VIOLATION', 'ROBBERY',\n",
    "       'SEXUAL ASSAULT', 'STALKING', 'THEFT', 'TRESPASSING', 'VEHICLE THEFT',\n",
    "       'WEAPONS VIOLATION']\n",
    "\n",
    "crime_agg = crime_agg_sums[cols]"
   ]
  },
  {
   "cell_type": "code",
   "execution_count": 29,
   "metadata": {},
   "outputs": [],
   "source": [
    "#take average for each community \n",
    "crime_agg = crime_agg.groupby('commarea')[cols].mean()"
   ]
  },
  {
   "cell_type": "code",
   "execution_count": 31,
   "metadata": {},
   "outputs": [],
   "source": [
    "crime_agg.reset_index(inplace=True)"
   ]
  },
  {
   "cell_type": "code",
   "execution_count": 34,
   "metadata": {},
   "outputs": [
    {
     "name": "stdout",
     "output_type": "stream",
     "text": [
      "<class 'pandas.core.frame.DataFrame'>\n",
      "RangeIndex: 77 entries, 0 to 76\n",
      "Data columns (total 24 columns):\n",
      "commarea                            77 non-null object\n",
      "ARSON                               77 non-null float64\n",
      "ASSAULT AND BATTERY                 77 non-null float64\n",
      "BURGLARY                            77 non-null float64\n",
      "CRIMINAL DAMAGE                     77 non-null float64\n",
      "DECEPTIVE PRACTICE                  77 non-null float64\n",
      "GAMBLING                            77 non-null float64\n",
      "HOMICIDE                            77 non-null float64\n",
      "INTERFERENCE WITH PUBLIC OFFICER    77 non-null float64\n",
      "INTIMIDATION                        77 non-null float64\n",
      "KIDNAPPING                          77 non-null float64\n",
      "LIQUOR LAW VIOLATION                77 non-null float64\n",
      "NARCOTICS                           77 non-null float64\n",
      "OFFENSE INVOLVING CHILDREN          77 non-null float64\n",
      "OTHER OFFENSE                       77 non-null float64\n",
      "PROSTITUTION                        77 non-null float64\n",
      "PUBLIC PEACE VIOLATION              77 non-null float64\n",
      "ROBBERY                             77 non-null float64\n",
      "SEXUAL ASSAULT                      77 non-null float64\n",
      "STALKING                            77 non-null float64\n",
      "THEFT                               77 non-null float64\n",
      "TRESPASSING                         77 non-null float64\n",
      "VEHICLE THEFT                       77 non-null float64\n",
      "WEAPONS VIOLATION                   77 non-null float64\n",
      "dtypes: float64(23), object(1)\n",
      "memory usage: 14.5+ KB\n"
     ]
    }
   ],
   "source": [
    "crime_agg.info()"
   ]
  },
  {
   "cell_type": "code",
   "execution_count": 35,
   "metadata": {},
   "outputs": [],
   "source": [
    "crime_agg['commarea'] = crime_agg['commarea'].astype(float)"
   ]
  },
  {
   "cell_type": "code",
   "execution_count": 40,
   "metadata": {},
   "outputs": [],
   "source": [
    "crime_agg = crime_agg[crime_agg['commarea']!=56]"
   ]
  },
  {
   "cell_type": "code",
   "execution_count": 43,
   "metadata": {},
   "outputs": [],
   "source": [
    "crime_agg.set_index('commarea',inplace=True)"
   ]
  },
  {
   "cell_type": "code",
   "execution_count": 44,
   "metadata": {},
   "outputs": [],
   "source": [
    "scaler = StandardScaler()\n",
    "crime_agg_scaled = scaler.fit_transform(crime_agg)"
   ]
  },
  {
   "cell_type": "code",
   "execution_count": 45,
   "metadata": {},
   "outputs": [
    {
     "name": "stdout",
     "output_type": "stream",
     "text": [
      "For n_clusters = 2, the average silhouette_score is : 0.47917286020426514\n",
      "For n_clusters = 3, the average silhouette_score is : 0.41883599955752304\n",
      "For n_clusters = 4, the average silhouette_score is : 0.414608147003916\n",
      "For n_clusters = 5, the average silhouette_score is : 0.42388517047415203\n",
      "For n_clusters = 6, the average silhouette_score is : 0.4176832616076343\n",
      "For n_clusters = 7, the average silhouette_score is : 0.41709298428441893\n",
      "For n_clusters = 8, the average silhouette_score is : 0.24335967218382146\n",
      "For n_clusters = 9, the average silhouette_score is : 0.1699546939232783\n",
      "For n_clusters = 10, the average silhouette_score is : 0.20848795060878567\n",
      "For n_clusters = 11, the average silhouette_score is : 0.16153619859533488\n",
      "For n_clusters = 12, the average silhouette_score is : 0.20910546058122356\n",
      "For n_clusters = 13, the average silhouette_score is : 0.19752571975424024\n",
      "For n_clusters = 14, the average silhouette_score is : 0.19011342981646565\n"
     ]
    }
   ],
   "source": [
    "#test kmeans model across k range\n",
    "cluster_test = [i for i in range(2,15)] #cluster range to iterate over\n",
    "scores = []\n",
    "elbows = []\n",
    "for i in cluster_test:\n",
    "    cluster_mod = KMeans(n_clusters=i,random_state=13).fit(crime_agg_scaled)\n",
    "    silhouette_scores = silhouette_score(crime_agg_scaled,cluster_mod.labels_)\n",
    "    print(\"For n_clusters = {},\".format(i)+\" the average silhouette_score is : {}\" \\\n",
    "          .format(silhouette_scores))\n",
    "    scores.append(silhouette_scores)\n",
    "    \n",
    "    elbow = sum(np.min(cdist(crime_agg_scaled, cluster_mod.cluster_centers_, \n",
    "                        'euclidean'), axis=1)) / crime_agg_scaled.shape[0]\n",
    "    elbows.append(elbow)"
   ]
  },
  {
   "cell_type": "code",
   "execution_count": 47,
   "metadata": {},
   "outputs": [
    {
     "data": {
      "text/plain": [
       "[2.9203498768583827,\n",
       " 2.57894962435732,\n",
       " 2.3985377268371284,\n",
       " 2.2725366760724497,\n",
       " 2.149758972891493,\n",
       " 2.048562457553399,\n",
       " 1.9220495073378574,\n",
       " 1.8229741996323139,\n",
       " 1.7656636724813553,\n",
       " 1.6841106493170444,\n",
       " 1.6125566610062427,\n",
       " 1.5710956120511363,\n",
       " 1.5052391937052687]"
      ]
     },
     "execution_count": 47,
     "metadata": {},
     "output_type": "execute_result"
    }
   ],
   "source": [
    "elbows"
   ]
  },
  {
   "cell_type": "code",
   "execution_count": null,
   "metadata": {},
   "outputs": [],
   "source": [
    "cluster_test = [i for i in range(2,15)] #cluster range to iterate over\n",
    "scores = []\n",
    "for i in cluster_test:\n",
    "    cluster_mod = GaussianMixture(n_components=i,random_state=13).fit(crime_agg_scaled)\n",
    "    silhouette_scores = silhouette_score(crime_agg_scaled,cluster_mod \\\n",
    "                                         .predict(crime_agg_scaled))\n",
    "    print(\"For n_clusters = {},\".format(i)+\" the average silhouette_score is : {}\" \\\n",
    "                                                      .format(silhouette_scores))\n",
    "    scores.append(silhouette_scores)"
   ]
  },
  {
   "cell_type": "code",
   "execution_count": null,
   "metadata": {},
   "outputs": [],
   "source": [
    "cluster_test = [i for i in range(2,15)] #cluster range to iterate over\n",
    "\n",
    "for i in cluster_test:\n",
    "    cluster_mod = AgglomerativeClustering(n_clusters=i,linkage='single').fit(crime_agg_scaled)\n",
    "    silhouette_scores = silhouette_score(crime_agg_scaled,cluster_mod.labels_)\n",
    "    print(\"For n_clusters = {},\".format(i)+\" the average silhouette_score is : {}\".format(silhouette_scores))"
   ]
  },
  {
   "cell_type": "markdown",
   "metadata": {},
   "source": [
    "### Use kmeans w/ K=4 "
   ]
  },
  {
   "cell_type": "code",
   "execution_count": 48,
   "metadata": {},
   "outputs": [],
   "source": [
    "cluster_mod = KMeans(n_clusters=4,random_state=13).fit(crime_agg_scaled)\n",
    "cluster_labels = pd.DataFrame(cluster_mod.labels_)"
   ]
  },
  {
   "cell_type": "code",
   "execution_count": 49,
   "metadata": {},
   "outputs": [],
   "source": [
    "crime_agg.reset_index(inplace=True)\n",
    "#crime_agg_sums.head()"
   ]
  },
  {
   "cell_type": "code",
   "execution_count": 50,
   "metadata": {},
   "outputs": [],
   "source": [
    "#add cluster labels to crime data \n",
    "crime_cluster = pd.merge(left=crime_agg,right=cluster_labels,\n",
    "                         how='left',left_index=True,right_index=True)"
   ]
  },
  {
   "cell_type": "code",
   "execution_count": 56,
   "metadata": {},
   "outputs": [],
   "source": [
    "#output data\n",
    "crime_cluster.to_csv('crime_clusters.csv')"
   ]
  },
  {
   "cell_type": "code",
   "execution_count": null,
   "metadata": {},
   "outputs": [],
   "source": [
    "crime_cluster.year.unique()"
   ]
  },
  {
   "cell_type": "markdown",
   "metadata": {},
   "source": [
    "### Anomaly Detection"
   ]
  },
  {
   "cell_type": "code",
   "execution_count": 57,
   "metadata": {},
   "outputs": [],
   "source": [
    "score = cluster_mod.fit_predict(crime_agg_scaled)\n",
    "kmeans_df = pd.DataFrame(cluster_mod.transform(crime_agg_scaled))\n",
    "kmeans_df = pd.concat((kmeans_df,pd.DataFrame(score)),axis=1)"
   ]
  },
  {
   "cell_type": "code",
   "execution_count": 58,
   "metadata": {},
   "outputs": [],
   "source": [
    "kmeans_df.columns =[0,1,2,3,'cluster']\n",
    "kmeans_df['dist_to_clus'] = kmeans_df.apply(lambda x: x[int(x[\"cluster\"])],axis=1)"
   ]
  },
  {
   "cell_type": "code",
   "execution_count": 59,
   "metadata": {},
   "outputs": [],
   "source": [
    "#rename columns\n",
    "kmeans_df.rename({0:'dist_0',1:'dist_1',2:'dist_2',3:\"dist_3\"},axis=1,inplace=True)"
   ]
  },
  {
   "cell_type": "code",
   "execution_count": 60,
   "metadata": {
    "scrolled": true
   },
   "outputs": [
    {
     "data": {
      "text/plain": [
       "(76, 6)"
      ]
     },
     "execution_count": 60,
     "metadata": {},
     "output_type": "execute_result"
    }
   ],
   "source": [
    "kmeans_df.shape"
   ]
  },
  {
   "cell_type": "code",
   "execution_count": 64,
   "metadata": {},
   "outputs": [],
   "source": [
    "kmeans_df = pd.merge(left=kmeans_df,right=crime_agg,left_index=True,right_index=True)"
   ]
  },
  {
   "cell_type": "code",
   "execution_count": 66,
   "metadata": {},
   "outputs": [
    {
     "data": {
      "text/plain": [
       "Index(['commarea_x', 'dist_0', 'dist_1', 'dist_2', 'dist_3', 'cluster',\n",
       "       'dist_to_clus', 'commarea_y', 'ARSON', 'ASSAULT AND BATTERY',\n",
       "       'BURGLARY', 'CRIMINAL DAMAGE', 'DECEPTIVE PRACTICE', 'GAMBLING',\n",
       "       'HOMICIDE', 'INTERFERENCE WITH PUBLIC OFFICER', 'INTIMIDATION',\n",
       "       'KIDNAPPING', 'LIQUOR LAW VIOLATION', 'NARCOTICS',\n",
       "       'OFFENSE INVOLVING CHILDREN', 'OTHER OFFENSE', 'PROSTITUTION',\n",
       "       'PUBLIC PEACE VIOLATION', 'ROBBERY', 'SEXUAL ASSAULT', 'STALKING',\n",
       "       'THEFT', 'TRESPASSING', 'VEHICLE THEFT', 'WEAPONS VIOLATION'],\n",
       "      dtype='object')"
      ]
     },
     "execution_count": 66,
     "metadata": {},
     "output_type": "execute_result"
    }
   ],
   "source": [
    "kmeans_df.columns"
   ]
  },
  {
   "cell_type": "code",
   "execution_count": 67,
   "metadata": {},
   "outputs": [],
   "source": [
    "kmeans_df = kmeans_df[['commarea_x','dist_0', 'dist_1',\n",
    "                       'dist_2', 'dist_3', 'cluster', 'dist_to_clus']]"
   ]
  },
  {
   "cell_type": "code",
   "execution_count": 69,
   "metadata": {},
   "outputs": [],
   "source": [
    "crime_cluster_w_anoms = pd.merge(left=crime_cluster,right=kmeans_df,\n",
    "                                 left_on='commarea',right_on='commarea_x')"
   ]
  },
  {
   "cell_type": "code",
   "execution_count": 70,
   "metadata": {},
   "outputs": [],
   "source": [
    "crime_cluster_w_anoms.to_csv('crime_clus_anomalies.csv')"
   ]
  }
 ],
 "metadata": {
  "kernelspec": {
   "display_name": "deeplearn",
   "language": "python",
   "name": "deeplearn"
  },
  "language_info": {
   "codemirror_mode": {
    "name": "ipython",
    "version": 3
   },
   "file_extension": ".py",
   "mimetype": "text/x-python",
   "name": "python",
   "nbconvert_exporter": "python",
   "pygments_lexer": "ipython3",
   "version": "3.5.6"
  }
 },
 "nbformat": 4,
 "nbformat_minor": 2
}
