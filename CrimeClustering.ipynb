{
 "cells": [
  {
   "cell_type": "markdown",
   "metadata": {},
   "source": [
    "## Crime and Demographic Hotspot Clustering"
   ]
  },
  {
   "cell_type": "code",
   "execution_count": 55,
   "metadata": {},
   "outputs": [
    {
     "name": "stdout",
     "output_type": "stream",
     "text": [
      "Populating the interactive namespace from numpy and matplotlib\n"
     ]
    }
   ],
   "source": [
    "import pandas as pd\n",
    "import geopandas as gpd\n",
    "import matplotlib.pyplot as plt\n",
    "import numpy as np\n",
    "import os\n",
    "\n",
    "from sklearn.cluster import KMeans\n",
    "from sklearn.mixture import GaussianMixture\n",
    "from sklearn.cluster import AgglomerativeClustering\n",
    "from sklearn.preprocessing import StandardScaler\n",
    "from sklearn.metrics import silhouette_score\n",
    "from sklearn import metrics\n",
    "from scipy.spatial.distance import cdist\n",
    "\n",
    "%pylab inline"
   ]
  },
  {
   "cell_type": "code",
   "execution_count": 2,
   "metadata": {},
   "outputs": [],
   "source": [
    "#set working directory\n",
    "os.chdir(os.getcwd()+'/Data')"
   ]
  },
  {
   "cell_type": "code",
   "execution_count": 3,
   "metadata": {},
   "outputs": [],
   "source": [
    "#import data\n",
    "demo = pd.read_csv('demographics.csv')\n",
    "crime = pd.read_csv('crimes_2001_pres_geo.csv')"
   ]
  },
  {
   "cell_type": "code",
   "execution_count": 4,
   "metadata": {},
   "outputs": [
    {
     "name": "stdout",
     "output_type": "stream",
     "text": [
      "[2017 2016 2015 2014 2013 2012 2011 2010 2009]\n",
      "[2003 2002 2006 2008 2005 2009 2017 2012 2004 2011 2018 2016 2015 2010\n",
      " 2013 2014 2007 2001 2019]\n"
     ]
    }
   ],
   "source": [
    "#check the years and align the data sets\n",
    "print(demo.year.unique())\n",
    "print(crime.Year.unique())"
   ]
  },
  {
   "cell_type": "code",
   "execution_count": 5,
   "metadata": {},
   "outputs": [
    {
     "name": "stderr",
     "output_type": "stream",
     "text": [
      "/nfshome/cb4102/.conda/envs/deeplearn/lib/python3.5/site-packages/ipykernel_launcher.py:3: UserWarning: Boolean Series key will be reindexed to match DataFrame index.\n",
      "  This is separate from the ipykernel package so we can avoid doing imports until\n"
     ]
    }
   ],
   "source": [
    "#trim crime df to align years\n",
    "crime = crime[(crime.Year > 2010)&(crime.Year < 2019)]\n",
    "demo = demo[(demo.year > 2010)&(crime.Year < 2019)]"
   ]
  },
  {
   "cell_type": "code",
   "execution_count": 6,
   "metadata": {},
   "outputs": [
    {
     "name": "stderr",
     "output_type": "stream",
     "text": [
      "/nfshome/cb4102/.conda/envs/deeplearn/lib/python3.5/site-packages/pandas/core/generic.py:5890: SettingWithCopyWarning: \n",
      "A value is trying to be set on a copy of a slice from a DataFrame\n",
      "\n",
      "See the caveats in the documentation: http://pandas.pydata.org/pandas-docs/stable/indexing.html#indexing-view-versus-copy\n",
      "  self._update_inplace(new_data)\n"
     ]
    }
   ],
   "source": [
    "demo_2018 = demo[demo['year']==2017]\n",
    "demo_2018['year'].replace({2017:2018},inplace=True)"
   ]
  },
  {
   "cell_type": "code",
   "execution_count": 7,
   "metadata": {},
   "outputs": [],
   "source": [
    "demo = pd.concat([demo,demo_2018],ignore_index=True) #fill in 2018 with 2017 values"
   ]
  },
  {
   "cell_type": "code",
   "execution_count": 8,
   "metadata": {},
   "outputs": [],
   "source": [
    "#map file to consolidate categories\n",
    "crime_mapper = pd.read_csv('crime_mapper.csv')\n",
    "\n",
    "#merge to get new mapping in crime data set\n",
    "crime = pd.merge(left=crime,right=crime_mapper,how='left',\n",
    "                 left_on='Primary Type',right_on='OLD_TYPE')"
   ]
  },
  {
   "cell_type": "code",
   "execution_count": 9,
   "metadata": {},
   "outputs": [],
   "source": [
    "#aggregate to the year and crime type level\n",
    "crime_agg = pd.DataFrame(crime.groupby(['census_tract','Year','NEW_TYPE'])['IUCR'].count())"
   ]
  },
  {
   "cell_type": "code",
   "execution_count": 10,
   "metadata": {},
   "outputs": [],
   "source": [
    "#reset index\n",
    "crime_agg.reset_index(inplace=True)"
   ]
  },
  {
   "cell_type": "code",
   "execution_count": 11,
   "metadata": {
    "scrolled": true
   },
   "outputs": [],
   "source": [
    "#aggregate and pivot data\n",
    "crime_agg = crime_agg.groupby(['census_tract', 'Year', 'NEW_TYPE'])['IUCR'].sum() \\\n",
    "                    .unstack('NEW_TYPE')"
   ]
  },
  {
   "cell_type": "code",
   "execution_count": 12,
   "metadata": {},
   "outputs": [
    {
     "data": {
      "text/plain": [
       "(6408, 23)"
      ]
     },
     "execution_count": 12,
     "metadata": {},
     "output_type": "execute_result"
    }
   ],
   "source": [
    "crime_agg.shape"
   ]
  },
  {
   "cell_type": "code",
   "execution_count": 13,
   "metadata": {},
   "outputs": [],
   "source": [
    "#fill na\n",
    "crime_agg.fillna(0,inplace=True)"
   ]
  },
  {
   "cell_type": "code",
   "execution_count": 14,
   "metadata": {},
   "outputs": [],
   "source": [
    "#reset the index to join in demographic data\n",
    "crime_agg.reset_index(inplace=True)"
   ]
  },
  {
   "cell_type": "code",
   "execution_count": 15,
   "metadata": {},
   "outputs": [],
   "source": [
    "#read in census tract shape file\n",
    "census_shapes = gpd.read_file('geo_export_ce0fbd70-d876-49ca-9432-ae1454719ab0.shp')"
   ]
  },
  {
   "cell_type": "code",
   "execution_count": 16,
   "metadata": {},
   "outputs": [],
   "source": [
    "#convert column for joining\n",
    "census_shapes['name_float'] = census_shapes.name10.astype(float)"
   ]
  },
  {
   "cell_type": "code",
   "execution_count": 17,
   "metadata": {},
   "outputs": [],
   "source": [
    "#join to get geoid from tracts table\n",
    "crime_agg = pd.merge(left=crime_agg,right=census_shapes,\n",
    "                     how='left',left_on='census_tract',right_on='name_float')"
   ]
  },
  {
   "cell_type": "code",
   "execution_count": 18,
   "metadata": {},
   "outputs": [],
   "source": [
    "#set column type for join\n",
    "crime_agg['geoid10_int'] = crime_agg['geoid10'].astype(int)"
   ]
  },
  {
   "cell_type": "code",
   "execution_count": 19,
   "metadata": {},
   "outputs": [],
   "source": [
    "#join demographic table\n",
    "crime_agg = pd.merge(left=crime_agg,right=demo,\n",
    "                     left_on=['geoid10_int','Year'],right_on=['geoid','year'])"
   ]
  },
  {
   "cell_type": "code",
   "execution_count": 20,
   "metadata": {},
   "outputs": [],
   "source": [
    "#set max columns\n",
    "pd.set_option('display.max_columns', 500)"
   ]
  },
  {
   "cell_type": "code",
   "execution_count": 21,
   "metadata": {},
   "outputs": [],
   "source": [
    "#roll data up to the community area level\n",
    "len(crime_agg.commarea.unique())\n",
    "sum_list = ['ARSON', 'ASSAULT AND BATTERY', 'BURGLARY',\n",
    "       'CRIMINAL DAMAGE', 'DECEPTIVE PRACTICE', 'GAMBLING', 'HOMICIDE',\n",
    "       'INTERFERENCE WITH PUBLIC OFFICER', 'INTIMIDATION', 'KIDNAPPING',\n",
    "       'LIQUOR LAW VIOLATION', 'NARCOTICS', 'OFFENSE INVOLVING CHILDREN',\n",
    "       'OTHER OFFENSE', 'PROSTITUTION', 'PUBLIC PEACE VIOLATION', 'ROBBERY',\n",
    "       'SEXUAL ASSAULT', 'STALKING', 'THEFT', 'TRESPASSING', 'VEHICLE THEFT',\n",
    "       'WEAPONS VIOLATION','households', 'own', 'rent','16+_tot',\n",
    "       'med_income', 'total', 'white', 'black', 'amer_indian',\n",
    "       'asian', 'hawaiian', 'other','all_families', 'married_fam','single_mom']\n",
    "\n",
    "crime_agg_sums = pd.DataFrame(crime_agg.groupby(['year','commarea'])[sum_list].sum())\n",
    "\n",
    "crime_agg_sums.reset_index(inplace=True)"
   ]
  },
  {
   "cell_type": "code",
   "execution_count": 23,
   "metadata": {},
   "outputs": [
    {
     "data": {
      "text/html": [
       "<div>\n",
       "<style scoped>\n",
       "    .dataframe tbody tr th:only-of-type {\n",
       "        vertical-align: middle;\n",
       "    }\n",
       "\n",
       "    .dataframe tbody tr th {\n",
       "        vertical-align: top;\n",
       "    }\n",
       "\n",
       "    .dataframe thead th {\n",
       "        text-align: right;\n",
       "    }\n",
       "</style>\n",
       "<table border=\"1\" class=\"dataframe\">\n",
       "  <thead>\n",
       "    <tr style=\"text-align: right;\">\n",
       "      <th></th>\n",
       "      <th>year</th>\n",
       "      <th>commarea</th>\n",
       "      <th>ARSON</th>\n",
       "      <th>ASSAULT AND BATTERY</th>\n",
       "      <th>BURGLARY</th>\n",
       "      <th>CRIMINAL DAMAGE</th>\n",
       "      <th>DECEPTIVE PRACTICE</th>\n",
       "      <th>GAMBLING</th>\n",
       "      <th>HOMICIDE</th>\n",
       "      <th>INTERFERENCE WITH PUBLIC OFFICER</th>\n",
       "      <th>INTIMIDATION</th>\n",
       "      <th>KIDNAPPING</th>\n",
       "      <th>LIQUOR LAW VIOLATION</th>\n",
       "      <th>NARCOTICS</th>\n",
       "      <th>OFFENSE INVOLVING CHILDREN</th>\n",
       "      <th>OTHER OFFENSE</th>\n",
       "      <th>PROSTITUTION</th>\n",
       "      <th>PUBLIC PEACE VIOLATION</th>\n",
       "      <th>ROBBERY</th>\n",
       "      <th>SEXUAL ASSAULT</th>\n",
       "      <th>STALKING</th>\n",
       "      <th>THEFT</th>\n",
       "      <th>TRESPASSING</th>\n",
       "      <th>VEHICLE THEFT</th>\n",
       "      <th>WEAPONS VIOLATION</th>\n",
       "      <th>households</th>\n",
       "      <th>own</th>\n",
       "      <th>rent</th>\n",
       "      <th>16+_tot</th>\n",
       "      <th>total</th>\n",
       "      <th>white</th>\n",
       "      <th>black</th>\n",
       "      <th>amer_indian</th>\n",
       "      <th>asian</th>\n",
       "      <th>hawaiian</th>\n",
       "      <th>other</th>\n",
       "      <th>all_families</th>\n",
       "      <th>married_fam</th>\n",
       "      <th>single_mom</th>\n",
       "    </tr>\n",
       "  </thead>\n",
       "  <tbody>\n",
       "    <tr>\n",
       "      <th>0</th>\n",
       "      <td>2011</td>\n",
       "      <td>1</td>\n",
       "      <td>5.0</td>\n",
       "      <td>631.0</td>\n",
       "      <td>123.0</td>\n",
       "      <td>272.0</td>\n",
       "      <td>58.0</td>\n",
       "      <td>6.0</td>\n",
       "      <td>3.0</td>\n",
       "      <td>9.0</td>\n",
       "      <td>0.0</td>\n",
       "      <td>0.0</td>\n",
       "      <td>7.0</td>\n",
       "      <td>226.0</td>\n",
       "      <td>12.0</td>\n",
       "      <td>164.0</td>\n",
       "      <td>2.0</td>\n",
       "      <td>24.0</td>\n",
       "      <td>113.0</td>\n",
       "      <td>13.0</td>\n",
       "      <td>2.0</td>\n",
       "      <td>404.0</td>\n",
       "      <td>69.0</td>\n",
       "      <td>67.0</td>\n",
       "      <td>19.0</td>\n",
       "      <td>9442</td>\n",
       "      <td>2806</td>\n",
       "      <td>6636</td>\n",
       "      <td>18563</td>\n",
       "      <td>23793</td>\n",
       "      <td>9936</td>\n",
       "      <td>8282</td>\n",
       "      <td>7</td>\n",
       "      <td>1327</td>\n",
       "      <td>0</td>\n",
       "      <td>3450</td>\n",
       "      <td>4511</td>\n",
       "      <td>2743</td>\n",
       "      <td>1359</td>\n",
       "    </tr>\n",
       "    <tr>\n",
       "      <th>1</th>\n",
       "      <td>2011</td>\n",
       "      <td>10</td>\n",
       "      <td>2.0</td>\n",
       "      <td>273.0</td>\n",
       "      <td>138.0</td>\n",
       "      <td>259.0</td>\n",
       "      <td>84.0</td>\n",
       "      <td>0.0</td>\n",
       "      <td>0.0</td>\n",
       "      <td>1.0</td>\n",
       "      <td>0.0</td>\n",
       "      <td>3.0</td>\n",
       "      <td>3.0</td>\n",
       "      <td>32.0</td>\n",
       "      <td>8.0</td>\n",
       "      <td>132.0</td>\n",
       "      <td>0.0</td>\n",
       "      <td>12.0</td>\n",
       "      <td>14.0</td>\n",
       "      <td>11.0</td>\n",
       "      <td>0.0</td>\n",
       "      <td>384.0</td>\n",
       "      <td>36.0</td>\n",
       "      <td>44.0</td>\n",
       "      <td>1.0</td>\n",
       "      <td>14441</td>\n",
       "      <td>11238</td>\n",
       "      <td>3203</td>\n",
       "      <td>30122</td>\n",
       "      <td>37276</td>\n",
       "      <td>32431</td>\n",
       "      <td>295</td>\n",
       "      <td>75</td>\n",
       "      <td>1749</td>\n",
       "      <td>0</td>\n",
       "      <td>1812</td>\n",
       "      <td>9590</td>\n",
       "      <td>7360</td>\n",
       "      <td>1601</td>\n",
       "    </tr>\n",
       "    <tr>\n",
       "      <th>2</th>\n",
       "      <td>2011</td>\n",
       "      <td>11</td>\n",
       "      <td>1.0</td>\n",
       "      <td>249.0</td>\n",
       "      <td>132.0</td>\n",
       "      <td>205.0</td>\n",
       "      <td>92.0</td>\n",
       "      <td>0.0</td>\n",
       "      <td>2.0</td>\n",
       "      <td>6.0</td>\n",
       "      <td>1.0</td>\n",
       "      <td>0.0</td>\n",
       "      <td>1.0</td>\n",
       "      <td>53.0</td>\n",
       "      <td>19.0</td>\n",
       "      <td>136.0</td>\n",
       "      <td>0.0</td>\n",
       "      <td>6.0</td>\n",
       "      <td>16.0</td>\n",
       "      <td>6.0</td>\n",
       "      <td>4.0</td>\n",
       "      <td>286.0</td>\n",
       "      <td>30.0</td>\n",
       "      <td>65.0</td>\n",
       "      <td>3.0</td>\n",
       "      <td>9882</td>\n",
       "      <td>6739</td>\n",
       "      <td>3143</td>\n",
       "      <td>21357</td>\n",
       "      <td>26099</td>\n",
       "      <td>21514</td>\n",
       "      <td>247</td>\n",
       "      <td>74</td>\n",
       "      <td>2240</td>\n",
       "      <td>0</td>\n",
       "      <td>1551</td>\n",
       "      <td>6307</td>\n",
       "      <td>4709</td>\n",
       "      <td>1003</td>\n",
       "    </tr>\n",
       "    <tr>\n",
       "      <th>3</th>\n",
       "      <td>2011</td>\n",
       "      <td>12</td>\n",
       "      <td>0.0</td>\n",
       "      <td>64.0</td>\n",
       "      <td>59.0</td>\n",
       "      <td>66.0</td>\n",
       "      <td>21.0</td>\n",
       "      <td>0.0</td>\n",
       "      <td>0.0</td>\n",
       "      <td>0.0</td>\n",
       "      <td>0.0</td>\n",
       "      <td>0.0</td>\n",
       "      <td>0.0</td>\n",
       "      <td>17.0</td>\n",
       "      <td>2.0</td>\n",
       "      <td>27.0</td>\n",
       "      <td>0.0</td>\n",
       "      <td>1.0</td>\n",
       "      <td>3.0</td>\n",
       "      <td>3.0</td>\n",
       "      <td>0.0</td>\n",
       "      <td>73.0</td>\n",
       "      <td>8.0</td>\n",
       "      <td>11.0</td>\n",
       "      <td>1.0</td>\n",
       "      <td>3667</td>\n",
       "      <td>3080</td>\n",
       "      <td>587</td>\n",
       "      <td>7935</td>\n",
       "      <td>10325</td>\n",
       "      <td>7067</td>\n",
       "      <td>205</td>\n",
       "      <td>0</td>\n",
       "      <td>1801</td>\n",
       "      <td>0</td>\n",
       "      <td>896</td>\n",
       "      <td>2700</td>\n",
       "      <td>2245</td>\n",
       "      <td>321</td>\n",
       "    </tr>\n",
       "    <tr>\n",
       "      <th>4</th>\n",
       "      <td>2011</td>\n",
       "      <td>13</td>\n",
       "      <td>0.0</td>\n",
       "      <td>174.0</td>\n",
       "      <td>144.0</td>\n",
       "      <td>189.0</td>\n",
       "      <td>30.0</td>\n",
       "      <td>2.0</td>\n",
       "      <td>1.0</td>\n",
       "      <td>0.0</td>\n",
       "      <td>1.0</td>\n",
       "      <td>0.0</td>\n",
       "      <td>2.0</td>\n",
       "      <td>46.0</td>\n",
       "      <td>7.0</td>\n",
       "      <td>79.0</td>\n",
       "      <td>2.0</td>\n",
       "      <td>2.0</td>\n",
       "      <td>32.0</td>\n",
       "      <td>8.0</td>\n",
       "      <td>2.0</td>\n",
       "      <td>293.0</td>\n",
       "      <td>25.0</td>\n",
       "      <td>64.0</td>\n",
       "      <td>5.0</td>\n",
       "      <td>6448</td>\n",
       "      <td>3350</td>\n",
       "      <td>3098</td>\n",
       "      <td>14382</td>\n",
       "      <td>17954</td>\n",
       "      <td>9949</td>\n",
       "      <td>576</td>\n",
       "      <td>7</td>\n",
       "      <td>4745</td>\n",
       "      <td>0</td>\n",
       "      <td>1744</td>\n",
       "      <td>4071</td>\n",
       "      <td>3107</td>\n",
       "      <td>580</td>\n",
       "    </tr>\n",
       "  </tbody>\n",
       "</table>\n",
       "</div>"
      ],
      "text/plain": [
       "   year commarea  ARSON  ASSAULT AND BATTERY  BURGLARY  CRIMINAL DAMAGE  \\\n",
       "0  2011        1    5.0                631.0     123.0            272.0   \n",
       "1  2011       10    2.0                273.0     138.0            259.0   \n",
       "2  2011       11    1.0                249.0     132.0            205.0   \n",
       "3  2011       12    0.0                 64.0      59.0             66.0   \n",
       "4  2011       13    0.0                174.0     144.0            189.0   \n",
       "\n",
       "   DECEPTIVE PRACTICE  GAMBLING  HOMICIDE  INTERFERENCE WITH PUBLIC OFFICER  \\\n",
       "0                58.0       6.0       3.0                               9.0   \n",
       "1                84.0       0.0       0.0                               1.0   \n",
       "2                92.0       0.0       2.0                               6.0   \n",
       "3                21.0       0.0       0.0                               0.0   \n",
       "4                30.0       2.0       1.0                               0.0   \n",
       "\n",
       "   INTIMIDATION  KIDNAPPING  LIQUOR LAW VIOLATION  NARCOTICS  \\\n",
       "0           0.0         0.0                   7.0      226.0   \n",
       "1           0.0         3.0                   3.0       32.0   \n",
       "2           1.0         0.0                   1.0       53.0   \n",
       "3           0.0         0.0                   0.0       17.0   \n",
       "4           1.0         0.0                   2.0       46.0   \n",
       "\n",
       "   OFFENSE INVOLVING CHILDREN  OTHER OFFENSE  PROSTITUTION  \\\n",
       "0                        12.0          164.0           2.0   \n",
       "1                         8.0          132.0           0.0   \n",
       "2                        19.0          136.0           0.0   \n",
       "3                         2.0           27.0           0.0   \n",
       "4                         7.0           79.0           2.0   \n",
       "\n",
       "   PUBLIC PEACE VIOLATION  ROBBERY  SEXUAL ASSAULT  STALKING  THEFT  \\\n",
       "0                    24.0    113.0            13.0       2.0  404.0   \n",
       "1                    12.0     14.0            11.0       0.0  384.0   \n",
       "2                     6.0     16.0             6.0       4.0  286.0   \n",
       "3                     1.0      3.0             3.0       0.0   73.0   \n",
       "4                     2.0     32.0             8.0       2.0  293.0   \n",
       "\n",
       "   TRESPASSING  VEHICLE THEFT  WEAPONS VIOLATION  households    own  rent  \\\n",
       "0         69.0           67.0               19.0        9442   2806  6636   \n",
       "1         36.0           44.0                1.0       14441  11238  3203   \n",
       "2         30.0           65.0                3.0        9882   6739  3143   \n",
       "3          8.0           11.0                1.0        3667   3080   587   \n",
       "4         25.0           64.0                5.0        6448   3350  3098   \n",
       "\n",
       "   16+_tot  total  white  black  amer_indian  asian  hawaiian  other  \\\n",
       "0    18563  23793   9936   8282            7   1327         0   3450   \n",
       "1    30122  37276  32431    295           75   1749         0   1812   \n",
       "2    21357  26099  21514    247           74   2240         0   1551   \n",
       "3     7935  10325   7067    205            0   1801         0    896   \n",
       "4    14382  17954   9949    576            7   4745         0   1744   \n",
       "\n",
       "   all_families  married_fam  single_mom  \n",
       "0          4511         2743        1359  \n",
       "1          9590         7360        1601  \n",
       "2          6307         4709        1003  \n",
       "3          2700         2245         321  \n",
       "4          4071         3107         580  "
      ]
     },
     "execution_count": 23,
     "metadata": {},
     "output_type": "execute_result"
    }
   ],
   "source": [
    "crime_agg_sums.head()"
   ]
  },
  {
   "cell_type": "code",
   "execution_count": 24,
   "metadata": {},
   "outputs": [],
   "source": [
    "cols = ['ARSON', 'ASSAULT AND BATTERY', 'BURGLARY',\n",
    "       'CRIMINAL DAMAGE', 'DECEPTIVE PRACTICE', 'GAMBLING', 'HOMICIDE',\n",
    "       'INTERFERENCE WITH PUBLIC OFFICER', 'INTIMIDATION', 'KIDNAPPING',\n",
    "       'LIQUOR LAW VIOLATION', 'NARCOTICS', 'OFFENSE INVOLVING CHILDREN',\n",
    "       'OTHER OFFENSE', 'PROSTITUTION', 'PUBLIC PEACE VIOLATION', 'ROBBERY',\n",
    "       'SEXUAL ASSAULT', 'STALKING', 'THEFT', 'TRESPASSING', 'VEHICLE THEFT',\n",
    "       'WEAPONS VIOLATION']\n",
    "\n",
    "#adding one to avoid div by zero error, only affects one row\n",
    "for col in cols:\n",
    "    crime_agg_sums[col]= crime_agg_sums.apply(lambda row: row[col] / (row['households']+1), \n",
    "                                  axis=1)"
   ]
  },
  {
   "cell_type": "code",
   "execution_count": 34,
   "metadata": {},
   "outputs": [],
   "source": [
    "cols = ['commarea','ARSON', 'ASSAULT AND BATTERY', 'BURGLARY',\n",
    "       'CRIMINAL DAMAGE', 'DECEPTIVE PRACTICE', 'GAMBLING', 'HOMICIDE',\n",
    "       'INTERFERENCE WITH PUBLIC OFFICER', 'INTIMIDATION', 'KIDNAPPING',\n",
    "       'LIQUOR LAW VIOLATION', 'NARCOTICS', 'OFFENSE INVOLVING CHILDREN',\n",
    "       'OTHER OFFENSE', 'PROSTITUTION', 'PUBLIC PEACE VIOLATION', 'ROBBERY',\n",
    "       'SEXUAL ASSAULT', 'STALKING', 'THEFT', 'TRESPASSING', 'VEHICLE THEFT',\n",
    "       'WEAPONS VIOLATION']\n",
    "\n",
    "crime_agg = crime_agg_sums[cols]"
   ]
  },
  {
   "cell_type": "code",
   "execution_count": 35,
   "metadata": {},
   "outputs": [],
   "source": [
    "#take average for each community \n",
    "crime_agg = crime_agg.groupby('commarea')[cols].mean()"
   ]
  },
  {
   "cell_type": "code",
   "execution_count": 38,
   "metadata": {},
   "outputs": [],
   "source": [
    "scaler = StandardScaler()\n",
    "crime_agg_scaled = scaler.fit_transform(crime_agg)"
   ]
  },
  {
   "cell_type": "code",
   "execution_count": 65,
   "metadata": {},
   "outputs": [
    {
     "name": "stdout",
     "output_type": "stream",
     "text": [
      "For n_clusters = 2, the average silhouette_score is : 0.859765867883428\n",
      "For n_clusters = 3, the average silhouette_score is : 0.4640443808901255\n",
      "For n_clusters = 4, the average silhouette_score is : 0.38341284153920735\n",
      "For n_clusters = 5, the average silhouette_score is : 0.38257940394641965\n",
      "For n_clusters = 6, the average silhouette_score is : 0.3803680960801778\n",
      "For n_clusters = 7, the average silhouette_score is : 0.3811542555567015\n",
      "For n_clusters = 8, the average silhouette_score is : 0.3865618823450311\n",
      "For n_clusters = 9, the average silhouette_score is : 0.26861881283107947\n",
      "For n_clusters = 10, the average silhouette_score is : 0.22280473902224562\n",
      "For n_clusters = 11, the average silhouette_score is : 0.21379524832428412\n",
      "For n_clusters = 12, the average silhouette_score is : 0.22655224939875215\n",
      "For n_clusters = 13, the average silhouette_score is : 0.19294121147175144\n",
      "For n_clusters = 14, the average silhouette_score is : 0.24078966969620128\n"
     ]
    }
   ],
   "source": [
    "#test kmeans model across k range\n",
    "cluster_test = [i for i in range(2,15)] #cluster range to iterate over\n",
    "scores = []\n",
    "elbows = []\n",
    "for i in cluster_test:\n",
    "    cluster_mod = KMeans(n_clusters=i,random_state=13).fit(crime_agg_scaled)\n",
    "    silhouette_scores = silhouette_score(crime_agg_scaled,cluster_mod.labels_)\n",
    "    print(\"For n_clusters = {},\".format(i)+\" the average silhouette_score is : {}\" \\\n",
    "          .format(silhouette_scores))\n",
    "    scores.append(silhouette_scores)\n",
    "    \n",
    "    elbow = sum(np.min(cdist(crime_agg_scaled, cluster_mod.cluster_centers_, \n",
    "                        'euclidean'), axis=1)) / crime_agg_scaled.shape[0]\n",
    "    elbows.append(elbow)"
   ]
  },
  {
   "cell_type": "code",
   "execution_count": 44,
   "metadata": {},
   "outputs": [
    {
     "name": "stdout",
     "output_type": "stream",
     "text": [
      "For n_clusters = 2, the average silhouette_score is : 0.859765867883428\n",
      "For n_clusters = 3, the average silhouette_score is : 0.4640443808901255\n",
      "For n_clusters = 4, the average silhouette_score is : 0.37665278021336196\n",
      "For n_clusters = 5, the average silhouette_score is : 0.37807265584020183\n",
      "For n_clusters = 6, the average silhouette_score is : 0.36299279609405377\n",
      "For n_clusters = 7, the average silhouette_score is : 0.36999060303209796\n",
      "For n_clusters = 8, the average silhouette_score is : 0.21587442829812337\n",
      "For n_clusters = 9, the average silhouette_score is : 0.13988046221325\n",
      "For n_clusters = 10, the average silhouette_score is : 0.1496592487439359\n",
      "For n_clusters = 11, the average silhouette_score is : 0.12943233530460188\n",
      "For n_clusters = 12, the average silhouette_score is : 0.1328038235000869\n",
      "For n_clusters = 13, the average silhouette_score is : 0.12747550547076453\n",
      "For n_clusters = 14, the average silhouette_score is : 0.18577616506877528\n"
     ]
    }
   ],
   "source": [
    "cluster_test = [i for i in range(2,15)] #cluster range to iterate over\n",
    "scores = []\n",
    "elbows = []\n",
    "for i in cluster_test:\n",
    "    cluster_mod = GaussianMixture(n_components=i,random_state=13).fit(crime_agg_scaled)\n",
    "    silhouette_scores = silhouette_score(crime_agg_scaled,cluster_mod \\\n",
    "                                         .predict(crime_agg_scaled))\n",
    "    print(\"For n_clusters = {},\".format(i)+\" the average silhouette_score is : {}\" \\\n",
    "                                                      .format(silhouette_scores))\n",
    "    scores.append(silhouette_scores)"
   ]
  },
  {
   "cell_type": "code",
   "execution_count": 41,
   "metadata": {},
   "outputs": [
    {
     "name": "stdout",
     "output_type": "stream",
     "text": [
      "For n_clusters = 2, the average silhouette_score is : 0.859765867883428\n",
      "For n_clusters = 3, the average silhouette_score is : 0.6333181323398419\n",
      "For n_clusters = 4, the average silhouette_score is : 0.618202749197191\n",
      "For n_clusters = 5, the average silhouette_score is : 0.44518588082288807\n",
      "For n_clusters = 6, the average silhouette_score is : 0.36017937663497346\n",
      "For n_clusters = 7, the average silhouette_score is : 0.28294061131326975\n",
      "For n_clusters = 8, the average silhouette_score is : 0.3404098590731111\n",
      "For n_clusters = 9, the average silhouette_score is : 0.3285891596309882\n",
      "For n_clusters = 10, the average silhouette_score is : 0.32002738850592233\n",
      "For n_clusters = 11, the average silhouette_score is : 0.3148918623812519\n",
      "For n_clusters = 12, the average silhouette_score is : 0.3303960629675287\n",
      "For n_clusters = 13, the average silhouette_score is : 0.21319662943604825\n",
      "For n_clusters = 14, the average silhouette_score is : 0.21184042939408887\n"
     ]
    }
   ],
   "source": [
    "cluster_test = [i for i in range(2,15)] #cluster range to iterate over\n",
    "\n",
    "for i in cluster_test:\n",
    "    cluster_mod = AgglomerativeClustering(n_clusters=i,linkage='single').fit(crime_agg_scaled)\n",
    "    silhouette_scores = silhouette_score(crime_agg_scaled,cluster_mod.labels_)\n",
    "    print(\"For n_clusters = {},\".format(i)+\" the average silhouette_score is : {}\".format(silhouette_scores))"
   ]
  },
  {
   "cell_type": "markdown",
   "metadata": {},
   "source": [
    "### Use kmeans w/ K=4 "
   ]
  },
  {
   "cell_type": "code",
   "execution_count": 67,
   "metadata": {},
   "outputs": [],
   "source": [
    "cluster_mod = KMeans(n_clusters=4,random_state=13).fit(crime_agg_scaled)\n",
    "cluster_labels = pd.DataFrame(cluster_mod.labels_)"
   ]
  },
  {
   "cell_type": "code",
   "execution_count": 73,
   "metadata": {},
   "outputs": [],
   "source": [
    "crime_agg.reset_index(inplace=True)\n",
    "#crime_agg_sums.head()"
   ]
  },
  {
   "cell_type": "code",
   "execution_count": 74,
   "metadata": {},
   "outputs": [],
   "source": [
    "#add cluster labels to crime data \n",
    "crime_cluster = pd.merge(left=crime_agg,right=cluster_labels,\n",
    "                         how='left',left_index=True,right_index=True)"
   ]
  },
  {
   "cell_type": "code",
   "execution_count": 83,
   "metadata": {},
   "outputs": [],
   "source": [
    "#join to all years table\n",
    "crime_agg_sums = pd.merge(left=crime_agg_sums,right=crime_cluster,how='left',\n",
    "                               left_on='commarea',right_on='commarea')"
   ]
  },
  {
   "cell_type": "code",
   "execution_count": 84,
   "metadata": {},
   "outputs": [],
   "source": [
    "crime_agg_sums = crime_agg_sums[['year','commarea','ARSON_x','ASSAULT AND BATTERY_x','BURGLARY_x',\n",
    "'CRIMINAL DAMAGE_x','DECEPTIVE PRACTICE_x','GAMBLING_x','HOMICIDE_x',\n",
    "'INTERFERENCE WITH PUBLIC OFFICER_x','INTIMIDATION_x','KIDNAPPING_x',\n",
    "'LIQUOR LAW VIOLATION_x','NARCOTICS_x','OFFENSE INVOLVING CHILDREN_x',\n",
    "'OTHER OFFENSE_x','PROSTITUTION_x','PUBLIC PEACE VIOLATION_x',\n",
    "'ROBBERY_x','SEXUAL ASSAULT_x','STALKING_x','THEFT_x','TRESPASSING_x',\n",
    "'VEHICLE THEFT_x','WEAPONS VIOLATION_x','households',0]]"
   ]
  },
  {
   "cell_type": "code",
   "execution_count": 85,
   "metadata": {},
   "outputs": [
    {
     "data": {
      "text/plain": [
       "(491, 27)"
      ]
     },
     "execution_count": 85,
     "metadata": {},
     "output_type": "execute_result"
    }
   ],
   "source": [
    "crime_agg_sums.shape"
   ]
  },
  {
   "cell_type": "markdown",
   "metadata": {},
   "source": [
    "### Export results tagged with geometry"
   ]
  },
  {
   "cell_type": "code",
   "execution_count": 86,
   "metadata": {},
   "outputs": [],
   "source": [
    "#import community shape files\n",
    "community_geo = gpd.read_file('Boundaries - Community Areas (current).geojson')"
   ]
  },
  {
   "cell_type": "code",
   "execution_count": 87,
   "metadata": {},
   "outputs": [],
   "source": [
    "#merge \n",
    "crime_cluster = pd.merge(left=crime_agg_sums,right=community_geo,how='left',\n",
    "                         left_on='commarea',right_on='area_numbe')"
   ]
  },
  {
   "cell_type": "code",
   "execution_count": 88,
   "metadata": {},
   "outputs": [],
   "source": [
    "crime_cluster = crime_cluster[['year','commarea','ARSON_x','ASSAULT AND BATTERY_x','BURGLARY_x',\n",
    "'CRIMINAL DAMAGE_x','DECEPTIVE PRACTICE_x','GAMBLING_x','HOMICIDE_x',\n",
    "'INTERFERENCE WITH PUBLIC OFFICER_x','INTIMIDATION_x','KIDNAPPING_x',\n",
    "'LIQUOR LAW VIOLATION_x','NARCOTICS_x','OFFENSE INVOLVING CHILDREN_x',\n",
    "'OTHER OFFENSE_x','PROSTITUTION_x','PUBLIC PEACE VIOLATION_x',\n",
    "'ROBBERY_x','SEXUAL ASSAULT_x','STALKING_x','THEFT_x','TRESPASSING_x',\n",
    "'VEHICLE THEFT_x','WEAPONS VIOLATION_x','households',0,'geometry']]"
   ]
  },
  {
   "cell_type": "code",
   "execution_count": 93,
   "metadata": {},
   "outputs": [],
   "source": [
    "#output data\n",
    "crime_cluster.to_csv('crime_clusters.csv')"
   ]
  },
  {
   "cell_type": "code",
   "execution_count": 94,
   "metadata": {},
   "outputs": [
    {
     "data": {
      "text/plain": [
       "array([2011, 2012, 2013, 2014, 2015, 2016, 2017, 2018])"
      ]
     },
     "execution_count": 94,
     "metadata": {},
     "output_type": "execute_result"
    }
   ],
   "source": [
    "crime_cluster.year.unique()"
   ]
  },
  {
   "cell_type": "markdown",
   "metadata": {},
   "source": [
    "### Anomaly Detection"
   ]
  },
  {
   "cell_type": "code",
   "execution_count": 95,
   "metadata": {},
   "outputs": [],
   "source": [
    "score = cluster_mod.fit_predict(crime_agg_scaled)\n",
    "kmeans_df = pd.DataFrame(cluster_mod.transform(crime_agg_scaled))\n",
    "kmeans_df = pd.concat((kmeans_df,pd.DataFrame(score)),axis=1)"
   ]
  },
  {
   "cell_type": "code",
   "execution_count": 96,
   "metadata": {},
   "outputs": [],
   "source": [
    "kmeans_df.columns =[0,1,2,3,'cluster']\n",
    "kmeans_df['dist_to_clus'] = kmeans_df.apply(lambda x: x[int(x[\"cluster\"])],axis=1)"
   ]
  },
  {
   "cell_type": "code",
   "execution_count": 97,
   "metadata": {},
   "outputs": [],
   "source": [
    "#rename columns\n",
    "kmeans_df.rename({0:'dist_0',1:'dist_1',2:'dist_2',3:\"dist_3\"},axis=1,inplace=True)"
   ]
  },
  {
   "cell_type": "code",
   "execution_count": 98,
   "metadata": {
    "scrolled": true
   },
   "outputs": [
    {
     "data": {
      "text/plain": [
       "(77, 6)"
      ]
     },
     "execution_count": 98,
     "metadata": {},
     "output_type": "execute_result"
    }
   ],
   "source": [
    "kmeans_df.shape"
   ]
  },
  {
   "cell_type": "code",
   "execution_count": 105,
   "metadata": {},
   "outputs": [
    {
     "data": {
      "text/html": [
       "<div>\n",
       "<style scoped>\n",
       "    .dataframe tbody tr th:only-of-type {\n",
       "        vertical-align: middle;\n",
       "    }\n",
       "\n",
       "    .dataframe tbody tr th {\n",
       "        vertical-align: top;\n",
       "    }\n",
       "\n",
       "    .dataframe thead th {\n",
       "        text-align: right;\n",
       "    }\n",
       "</style>\n",
       "<table border=\"1\" class=\"dataframe\">\n",
       "  <thead>\n",
       "    <tr style=\"text-align: right;\">\n",
       "      <th></th>\n",
       "      <th>dist_0</th>\n",
       "      <th>dist_1</th>\n",
       "      <th>dist_2</th>\n",
       "      <th>dist_3</th>\n",
       "      <th>cluster</th>\n",
       "      <th>dist_to_clus</th>\n",
       "    </tr>\n",
       "  </thead>\n",
       "  <tbody>\n",
       "    <tr>\n",
       "      <th>0</th>\n",
       "      <td>7.902589</td>\n",
       "      <td>1.021124</td>\n",
       "      <td>30.584168</td>\n",
       "      <td>3.134119</td>\n",
       "      <td>1</td>\n",
       "      <td>1.021124</td>\n",
       "    </tr>\n",
       "    <tr>\n",
       "      <th>1</th>\n",
       "      <td>8.823239</td>\n",
       "      <td>0.987671</td>\n",
       "      <td>30.682230</td>\n",
       "      <td>3.960664</td>\n",
       "      <td>1</td>\n",
       "      <td>0.987671</td>\n",
       "    </tr>\n",
       "    <tr>\n",
       "      <th>2</th>\n",
       "      <td>8.251783</td>\n",
       "      <td>0.963548</td>\n",
       "      <td>30.613844</td>\n",
       "      <td>3.297643</td>\n",
       "      <td>1</td>\n",
       "      <td>0.963548</td>\n",
       "    </tr>\n",
       "    <tr>\n",
       "      <th>3</th>\n",
       "      <td>9.172202</td>\n",
       "      <td>1.422045</td>\n",
       "      <td>30.650851</td>\n",
       "      <td>4.436173</td>\n",
       "      <td>1</td>\n",
       "      <td>1.422045</td>\n",
       "    </tr>\n",
       "    <tr>\n",
       "      <th>4</th>\n",
       "      <td>8.219043</td>\n",
       "      <td>1.130647</td>\n",
       "      <td>30.565467</td>\n",
       "      <td>3.560019</td>\n",
       "      <td>1</td>\n",
       "      <td>1.130647</td>\n",
       "    </tr>\n",
       "    <tr>\n",
       "      <th>5</th>\n",
       "      <td>7.999800</td>\n",
       "      <td>0.757942</td>\n",
       "      <td>30.597896</td>\n",
       "      <td>3.121927</td>\n",
       "      <td>1</td>\n",
       "      <td>0.757942</td>\n",
       "    </tr>\n",
       "    <tr>\n",
       "      <th>6</th>\n",
       "      <td>8.360731</td>\n",
       "      <td>1.437486</td>\n",
       "      <td>30.606423</td>\n",
       "      <td>3.567463</td>\n",
       "      <td>1</td>\n",
       "      <td>1.437486</td>\n",
       "    </tr>\n",
       "    <tr>\n",
       "      <th>7</th>\n",
       "      <td>8.427723</td>\n",
       "      <td>0.488126</td>\n",
       "      <td>30.585842</td>\n",
       "      <td>3.588905</td>\n",
       "      <td>1</td>\n",
       "      <td>0.488126</td>\n",
       "    </tr>\n",
       "    <tr>\n",
       "      <th>8</th>\n",
       "      <td>8.803542</td>\n",
       "      <td>0.893884</td>\n",
       "      <td>30.590752</td>\n",
       "      <td>3.972398</td>\n",
       "      <td>1</td>\n",
       "      <td>0.893884</td>\n",
       "    </tr>\n",
       "    <tr>\n",
       "      <th>9</th>\n",
       "      <td>8.301144</td>\n",
       "      <td>0.944961</td>\n",
       "      <td>30.521787</td>\n",
       "      <td>3.547116</td>\n",
       "      <td>1</td>\n",
       "      <td>0.944961</td>\n",
       "    </tr>\n",
       "    <tr>\n",
       "      <th>10</th>\n",
       "      <td>7.218859</td>\n",
       "      <td>1.400302</td>\n",
       "      <td>30.482408</td>\n",
       "      <td>2.408804</td>\n",
       "      <td>1</td>\n",
       "      <td>1.400302</td>\n",
       "    </tr>\n",
       "    <tr>\n",
       "      <th>11</th>\n",
       "      <td>8.320775</td>\n",
       "      <td>0.373652</td>\n",
       "      <td>30.565069</td>\n",
       "      <td>3.469904</td>\n",
       "      <td>1</td>\n",
       "      <td>0.373652</td>\n",
       "    </tr>\n",
       "    <tr>\n",
       "      <th>12</th>\n",
       "      <td>7.383418</td>\n",
       "      <td>1.611965</td>\n",
       "      <td>30.510485</td>\n",
       "      <td>2.736451</td>\n",
       "      <td>1</td>\n",
       "      <td>1.611965</td>\n",
       "    </tr>\n",
       "    <tr>\n",
       "      <th>13</th>\n",
       "      <td>7.754395</td>\n",
       "      <td>1.107015</td>\n",
       "      <td>30.564063</td>\n",
       "      <td>3.027872</td>\n",
       "      <td>1</td>\n",
       "      <td>1.107015</td>\n",
       "    </tr>\n",
       "    <tr>\n",
       "      <th>14</th>\n",
       "      <td>8.135344</td>\n",
       "      <td>0.688699</td>\n",
       "      <td>30.545033</td>\n",
       "      <td>3.325379</td>\n",
       "      <td>1</td>\n",
       "      <td>0.688699</td>\n",
       "    </tr>\n",
       "    <tr>\n",
       "      <th>15</th>\n",
       "      <td>4.145737</td>\n",
       "      <td>4.335461</td>\n",
       "      <td>30.457633</td>\n",
       "      <td>2.038601</td>\n",
       "      <td>3</td>\n",
       "      <td>2.038601</td>\n",
       "    </tr>\n",
       "    <tr>\n",
       "      <th>16</th>\n",
       "      <td>8.202442</td>\n",
       "      <td>1.065502</td>\n",
       "      <td>30.506292</td>\n",
       "      <td>3.444556</td>\n",
       "      <td>1</td>\n",
       "      <td>1.065502</td>\n",
       "    </tr>\n",
       "    <tr>\n",
       "      <th>17</th>\n",
       "      <td>3.921271</td>\n",
       "      <td>6.737163</td>\n",
       "      <td>30.898689</td>\n",
       "      <td>4.383027</td>\n",
       "      <td>0</td>\n",
       "      <td>3.921271</td>\n",
       "    </tr>\n",
       "    <tr>\n",
       "      <th>18</th>\n",
       "      <td>6.520373</td>\n",
       "      <td>11.408654</td>\n",
       "      <td>31.704969</td>\n",
       "      <td>9.373114</td>\n",
       "      <td>0</td>\n",
       "      <td>6.520373</td>\n",
       "    </tr>\n",
       "    <tr>\n",
       "      <th>19</th>\n",
       "      <td>3.030939</td>\n",
       "      <td>9.223499</td>\n",
       "      <td>31.288251</td>\n",
       "      <td>6.441257</td>\n",
       "      <td>0</td>\n",
       "      <td>3.030939</td>\n",
       "    </tr>\n",
       "  </tbody>\n",
       "</table>\n",
       "</div>"
      ],
      "text/plain": [
       "      dist_0     dist_1     dist_2    dist_3  cluster  dist_to_clus\n",
       "0   7.902589   1.021124  30.584168  3.134119        1      1.021124\n",
       "1   8.823239   0.987671  30.682230  3.960664        1      0.987671\n",
       "2   8.251783   0.963548  30.613844  3.297643        1      0.963548\n",
       "3   9.172202   1.422045  30.650851  4.436173        1      1.422045\n",
       "4   8.219043   1.130647  30.565467  3.560019        1      1.130647\n",
       "5   7.999800   0.757942  30.597896  3.121927        1      0.757942\n",
       "6   8.360731   1.437486  30.606423  3.567463        1      1.437486\n",
       "7   8.427723   0.488126  30.585842  3.588905        1      0.488126\n",
       "8   8.803542   0.893884  30.590752  3.972398        1      0.893884\n",
       "9   8.301144   0.944961  30.521787  3.547116        1      0.944961\n",
       "10  7.218859   1.400302  30.482408  2.408804        1      1.400302\n",
       "11  8.320775   0.373652  30.565069  3.469904        1      0.373652\n",
       "12  7.383418   1.611965  30.510485  2.736451        1      1.611965\n",
       "13  7.754395   1.107015  30.564063  3.027872        1      1.107015\n",
       "14  8.135344   0.688699  30.545033  3.325379        1      0.688699\n",
       "15  4.145737   4.335461  30.457633  2.038601        3      2.038601\n",
       "16  8.202442   1.065502  30.506292  3.444556        1      1.065502\n",
       "17  3.921271   6.737163  30.898689  4.383027        0      3.921271\n",
       "18  6.520373  11.408654  31.704969  9.373114        0      6.520373\n",
       "19  3.030939   9.223499  31.288251  6.441257        0      3.030939"
      ]
     },
     "execution_count": 105,
     "metadata": {},
     "output_type": "execute_result"
    }
   ],
   "source": [
    "kmeans_df.head(20)"
   ]
  },
  {
   "cell_type": "code",
   "execution_count": 107,
   "metadata": {},
   "outputs": [],
   "source": [
    "kmeans_df = pd.merge(left=kmeans_df,right=crime_agg,left_index=True,right_index=True)"
   ]
  },
  {
   "cell_type": "code",
   "execution_count": 109,
   "metadata": {},
   "outputs": [],
   "source": [
    "kmeans_df = kmeans_df[['commarea','dist_0', 'dist_1',\n",
    "                       'dist_2', 'dist_3', 'cluster', 'dist_to_clus',]]"
   ]
  },
  {
   "cell_type": "code",
   "execution_count": 111,
   "metadata": {},
   "outputs": [],
   "source": [
    "crime_cluster_w_anoms = pd.merge(left=crime_cluster,right=kmeans_df,\n",
    "                                 left_on='commarea',right_on='commarea')"
   ]
  },
  {
   "cell_type": "code",
   "execution_count": 112,
   "metadata": {},
   "outputs": [],
   "source": [
    "crime_cluster_w_anoms.to_csv('crime_clus_anomalies.csv')"
   ]
  },
  {
   "cell_type": "code",
   "execution_count": null,
   "metadata": {},
   "outputs": [],
   "source": []
  }
 ],
 "metadata": {
  "kernelspec": {
   "display_name": "deeplearn",
   "language": "python",
   "name": "deeplearn"
  },
  "language_info": {
   "codemirror_mode": {
    "name": "ipython",
    "version": 3
   },
   "file_extension": ".py",
   "mimetype": "text/x-python",
   "name": "python",
   "nbconvert_exporter": "python",
   "pygments_lexer": "ipython3",
   "version": "3.5.6"
  }
 },
 "nbformat": 4,
 "nbformat_minor": 2
}
